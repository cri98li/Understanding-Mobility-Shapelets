{
 "cells": [
  {
   "cell_type": "code",
   "execution_count": 1,
   "id": "22c29ad9e499cb68",
   "metadata": {
    "ExecuteTime": {
     "end_time": "2025-01-22T10:14:30.173226912Z",
     "start_time": "2025-01-22T10:14:29.725537696Z"
    },
    "collapsed": false,
    "jupyter": {
     "outputs_hidden": false
    }
   },
   "outputs": [],
   "source": [
    "import random\n",
    "import os\n",
    "import pandas as pd\n",
    "from glob import glob\n",
    "from tqdm.auto import tqdm\n",
    "import geopandas\n",
    "from sklearn.model_selection import train_test_split\n",
    "import shutil\n",
    "import numpy as np"
   ]
  },
  {
   "cell_type": "code",
   "execution_count": null,
   "id": "f7743f47-fb64-4b02-a6be-7a75fb28f5a7",
   "metadata": {},
   "outputs": [],
   "source": []
  },
  {
   "cell_type": "code",
   "execution_count": 2,
   "id": "516c56b699891921",
   "metadata": {
    "ExecuteTime": {
     "end_time": "2025-01-22T10:27:13.803110727Z",
     "start_time": "2025-01-22T10:27:13.799587888Z"
    },
    "collapsed": false,
    "jupyter": {
     "outputs_hidden": false
    }
   },
   "outputs": [],
   "source": [
    "sumo_rename_map = {\n",
    "    \"vehicle_id\": \"tid\",\n",
    "    \"class\": \"y\"\n",
    "}\n",
    "\n",
    "def undersample(df, n_sample_per_class):\n",
    "    classes = df.y.unique().tolist()\n",
    "    selected_tid = []\n",
    "\n",
    "    for classe in classes:\n",
    "        selected_tid += random.sample(df[df.y == classe].tid.unique().tolist(), n_sample_per_class)\n",
    "\n",
    "    return df[df.tid.isin(selected_tid)].sort_values(by=[\"tid\", \"time\"])\n",
    "\n",
    "def sumo_cities():\n",
    "    df_grid = pd.read_csv(\"../../Code/generation/sumo_stuff/Grid-Empire-2.5km/trajectories.zip\").rename(columns=sumo_rename_map)\n",
    "    df_borgo = pd.read_csv(\"../../Code/generation/sumo_stuff/Borgo-Rome-2Km/trajectories.zip\").rename(columns=sumo_rename_map)\n",
    "    df_mixed = pd.read_csv(\"../../Code/generation/sumo_stuff/Mixed-Athens-2km/trajectories.zip\").rename(columns=sumo_rename_map)\n",
    "\n",
    "    df_grid.y = \"grid\"\n",
    "    df_borgo.y = \"borgo\"\n",
    "    df_mixed.y = \"mixed\"\n",
    "    df_grid.tid = df_grid.tid.apply(lambda x: f\"grid_{x}\")\n",
    "    df_borgo.tid = df_borgo.tid.apply(lambda x: f\"borgo_{x}\")\n",
    "    df_mixed.tid = df_mixed.tid.apply(lambda x: f\"mixed_{x}\")\n",
    "\n",
    "    return pd.concat([df_grid, df_borgo, df_mixed], ignore_index=True)\n",
    "\n",
    "def sumo_cities_grid_vs_borgo():\n",
    "    df_grid = pd.read_csv(\"../../Code/generation/sumo_stuff/Grid-Empire-2.5km/trajectories.zip\").rename(columns=sumo_rename_map)\n",
    "    df_borgo = pd.read_csv(\"../../Code/generation/sumo_stuff/Borgo-Rome-2Km/trajectories.zip\").rename(columns=sumo_rename_map)\n",
    "\n",
    "    df_grid.y = \"grid\"\n",
    "    df_borgo.y = \"borgo\"\n",
    "    df_grid.tid = df_grid.tid.apply(lambda x: f\"grid_{x}\")\n",
    "    df_borgo.tid = df_borgo.tid.apply(lambda x: f\"borgo_{x}\")\n",
    "\n",
    "    return pd.concat([df_grid, df_borgo], ignore_index=True)\n",
    "\n",
    "def sumo_cities_borgo_vs_mixed():\n",
    "    df_borgo = pd.read_csv(\"../../Code/generation/sumo_stuff/Borgo-Rome-2Km/trajectories.zip\").rename(columns=sumo_rename_map)\n",
    "    df_mixed = pd.read_csv(\"../../Code/generation/sumo_stuff/Mixed-Athens-2km/trajectories.zip\").rename(columns=sumo_rename_map)\n",
    "\n",
    "    df_borgo.y = \"borgo\"\n",
    "    df_mixed.y = \"mixed\"\n",
    "    df_borgo.tid = df_borgo.tid.apply(lambda x: f\"borgo_{x}\")\n",
    "    df_mixed.tid = df_mixed.tid.apply(lambda x: f\"mixed_{x}\")\n",
    "\n",
    "    return pd.concat([df_borgo, df_mixed], ignore_index=True)\n",
    "\n",
    "def sumo_cities_mixed_vs_grid():\n",
    "    df_grid = pd.read_csv(\"../../Code/generation/sumo_stuff/Grid-Empire-2.5km/trajectories.zip\").rename(columns=sumo_rename_map)\n",
    "    df_mixed = pd.read_csv(\"../../Code/generation/sumo_stuff/Mixed-Athens-2km/trajectories.zip\").rename(columns=sumo_rename_map)\n",
    "\n",
    "    df_grid.y = \"grid\"\n",
    "    df_mixed.y = \"mixed\"\n",
    "    df_grid.tid = df_grid.tid.apply(lambda x: f\"grid_{x}\")\n",
    "    df_mixed.tid = df_mixed.tid.apply(lambda x: f\"mixed_{x}\")\n",
    "\n",
    "    return pd.concat([df_grid, df_mixed], ignore_index=True)\n",
    "\n",
    "def sumo_all_car_vs_bikes():\n",
    "    df_grid = pd.read_csv(\"../../Code/generation/sumo_stuff/Grid-Empire-2.5km/trajectories.zip\").rename(columns=sumo_rename_map)\n",
    "    df_borgo = pd.read_csv(\"../../Code/generation/sumo_stuff/Borgo-Rome-2Km/trajectories.zip\").rename(columns=sumo_rename_map)\n",
    "    df_mixed = pd.read_csv(\"../../Code/generation/sumo_stuff/Mixed-Athens-2km/trajectories.zip\").rename(columns=sumo_rename_map)\n",
    "\n",
    "    df_grid.y = df_grid.y.apply(lambda x: f\"grid_{x}\")\n",
    "    df_borgo.y = df_borgo.y.apply(lambda x: f\"borgo_{x}\")\n",
    "    df_mixed.y = df_mixed.y.apply(lambda x: f\"mixed_{x}\")\n",
    "\n",
    "    df_grid.tid = df_grid.tid.apply(lambda x: f\"grid_{x}\")\n",
    "    df_borgo.tid = df_borgo.tid.apply(lambda x: f\"borgo_{x}\")\n",
    "    df_mixed.tid = df_mixed.tid.apply(lambda x: f\"mixed_{x}\")\n",
    "\n",
    "    return pd.concat([df_grid, df_borgo, df_mixed], ignore_index=True)\n",
    "\n",
    "def sumo_cities_car_vs_bikes():\n",
    "    df_grid = pd.read_csv(\"../../Code/generation/sumo_stuff/Grid-Empire-2.5km/trajectories.zip\").rename(columns=sumo_rename_map)\n",
    "    df_borgo = pd.read_csv(\"../../Code/generation/sumo_stuff/Borgo-Rome-2Km/trajectories.zip\").rename(columns=sumo_rename_map)\n",
    "    df_mixed = pd.read_csv(\"../../Code/generation/sumo_stuff/Mixed-Athens-2km/trajectories.zip\").rename(columns=sumo_rename_map)\n",
    "\n",
    "    df_grid.tid = df_grid.tid.apply(lambda x: f\"grid_{x}\")\n",
    "    df_borgo.tid = df_borgo.tid.apply(lambda x: f\"borgo_{x}\")\n",
    "    df_mixed.tid = df_mixed.tid.apply(lambda x: f\"mixed_{x}\")\n",
    "\n",
    "    return pd.concat([df_grid, df_borgo, df_mixed], ignore_index=True)\n",
    "\n",
    "def sumo_grid_car_vs_bikes():\n",
    "    return pd.read_csv(\"../../Code/generation/sumo_stuff/Grid-Empire-2.5km/trajectories.zip\").rename(columns=sumo_rename_map)\n",
    "\n",
    "def sumo_borgo_car_vs_bikes():\n",
    "    return pd.read_csv(\"../../Code/generation/sumo_stuff/Borgo-Rome-2Km/trajectories.zip\").rename(columns=sumo_rename_map)\n",
    "\n",
    "def sumo_mixed_car_vs_bikes():\n",
    "    return pd.read_csv(\"../../Code/generation/sumo_stuff/Mixed-Athens-2km/trajectories.zip\").rename(columns=sumo_rename_map)"
   ]
  },
  {
   "cell_type": "code",
   "execution_count": 3,
   "id": "c3ce7d40370f4084",
   "metadata": {
    "ExecuteTime": {
     "end_time": "2025-01-22T10:17:10.524983155Z",
     "start_time": "2025-01-22T10:17:10.486895960Z"
    },
    "collapsed": false,
    "jupyter": {
     "outputs_hidden": false
    }
   },
   "outputs": [
    {
     "data": {
      "text/html": [
       "<div>\n",
       "<style scoped>\n",
       "    .dataframe tbody tr th:only-of-type {\n",
       "        vertical-align: middle;\n",
       "    }\n",
       "\n",
       "    .dataframe tbody tr th {\n",
       "        vertical-align: top;\n",
       "    }\n",
       "\n",
       "    .dataframe thead th {\n",
       "        text-align: right;\n",
       "    }\n",
       "</style>\n",
       "<table border=\"1\" class=\"dataframe\">\n",
       "  <thead>\n",
       "    <tr style=\"text-align: right;\">\n",
       "      <th></th>\n",
       "      <th>y</th>\n",
       "      <th>lat</th>\n",
       "      <th>lon</th>\n",
       "      <th>time</th>\n",
       "      <th>tid</th>\n",
       "    </tr>\n",
       "  </thead>\n",
       "  <tbody>\n",
       "    <tr>\n",
       "      <th>0</th>\n",
       "      <td>right</td>\n",
       "      <td>0.250687</td>\n",
       "      <td>-0.887452</td>\n",
       "      <td>0</td>\n",
       "      <td>0</td>\n",
       "    </tr>\n",
       "    <tr>\n",
       "      <th>1</th>\n",
       "      <td>right</td>\n",
       "      <td>0.359131</td>\n",
       "      <td>-0.815455</td>\n",
       "      <td>1</td>\n",
       "      <td>0</td>\n",
       "    </tr>\n",
       "    <tr>\n",
       "      <th>2</th>\n",
       "      <td>right</td>\n",
       "      <td>0.267477</td>\n",
       "      <td>-0.796666</td>\n",
       "      <td>2</td>\n",
       "      <td>0</td>\n",
       "    </tr>\n",
       "    <tr>\n",
       "      <th>3</th>\n",
       "      <td>right</td>\n",
       "      <td>0.340948</td>\n",
       "      <td>-0.700614</td>\n",
       "      <td>3</td>\n",
       "      <td>0</td>\n",
       "    </tr>\n",
       "    <tr>\n",
       "      <th>4</th>\n",
       "      <td>right</td>\n",
       "      <td>0.257886</td>\n",
       "      <td>-0.600954</td>\n",
       "      <td>4</td>\n",
       "      <td>0</td>\n",
       "    </tr>\n",
       "  </tbody>\n",
       "</table>\n",
       "</div>"
      ],
      "text/plain": [
       "       y       lat       lon  time  tid\n",
       "0  right  0.250687 -0.887452     0    0\n",
       "1  right  0.359131 -0.815455     1    0\n",
       "2  right  0.267477 -0.796666     2    0\n",
       "3  right  0.340948 -0.700614     3    0\n",
       "4  right  0.257886 -0.600954     4    0"
      ]
     },
     "execution_count": 3,
     "metadata": {},
     "output_type": "execute_result"
    }
   ],
   "source": [
    "df_simple_shape = pd.read_csv(\"../../data/simple_shape.zip\")\n",
    "df_simple_shape_time = pd.read_csv(\"../../data/simple_shape_time.zip\")\n",
    "df_simple_time = pd.read_csv(\"../../data/simple_time.zip\")\n",
    "df_simple_yao = pd.read_csv(\"../../data/simple_yao.zip\")\n",
    "\n",
    "df_sumo_cities = sumo_cities()\n",
    "df_sumo_cities_grid_vs_borgo = sumo_cities_grid_vs_borgo()\n",
    "df_sumo_cities_borgo_vs_mixed = sumo_cities_borgo_vs_mixed()\n",
    "df_sumo_cities_mixed_vs_grid = sumo_cities_mixed_vs_grid()\n",
    "df_sumo_all_car_vs_bikes = sumo_all_car_vs_bikes()\n",
    "df_sumo_cities_car_vs_bikes = sumo_cities_car_vs_bikes()\n",
    "df_sumo_grid_car_vs_bikes = sumo_grid_car_vs_bikes()\n",
    "df_sumo_borgo_car_vs_bikes = sumo_borgo_car_vs_bikes()\n",
    "df_sumo_mixed_car_vs_bikes = sumo_mixed_car_vs_bikes()\n",
    "\n",
    "df_simple_shape.head()"
   ]
  },
  {
   "cell_type": "code",
   "execution_count": 4,
   "id": "initial_id",
   "metadata": {},
   "outputs": [],
   "source": [
    "from sklearn.preprocessing import LabelEncoder\n",
    "\n",
    "def prepareForShapelet(df=pd.DataFrame, trajectoryIDAttribute=None, targetAttribute=None,\n",
    "                       timestampAttribute=None, latAttr=None, lonAttr=None,\n",
    "                       train_path=\"train\", test_path=\"test\"\n",
    "                      ):\n",
    "    \n",
    "    attributes = [timestampAttribute, \"latLon\"]+ [x for x in list(df.columns) if x not in [trajectoryIDAttribute, targetAttribute, timestampAttribute, latAttr, lonAttr]] #mi assicuro di avere il timestam come primo elemento\n",
    "\n",
    "    df = df.copy()\n",
    "\n",
    "    #df[\"y_old\"] = df[trajectoryIDAttribute]\n",
    "    #df[trajectoryIDAttribute] = LabelEncoder().fit_transform(df[trajectoryIDAttribute])\n",
    "\n",
    "    if os.path.exists(train_path): shutil.rmtree(train_path)\n",
    "    if os.path.exists(test_path): shutil.rmtree(test_path)\n",
    "    \n",
    "    if(os.path.exists(train_path) | os.path.exists(test_path)):\n",
    "        print(\"Le cartelle train e test esistono già!\")\n",
    "        return\n",
    "\n",
    "    df[\"latLon\"] = df[latAttr].astype(str) + \" \" + df[lonAttr].astype(str)\n",
    "\n",
    "    ids, ids_idx = np.unique(df[trajectoryIDAttribute], return_index=True)#list(df[trajectoryIDAttribute].unique())\n",
    "    #y = pd.concat([df[df[trajectoryIDAttribute] == x].head(1) for x in tqdm(ids)])[targetAttribute]\n",
    "    y = df[targetAttribute].values[ids_idx]\n",
    "    ids_train, ids_test, y_train, y_test = train_test_split(ids, y, test_size=0.3, random_state=32, stratify=y)\n",
    "\n",
    "    os.makedirs(train_path)\n",
    "    os.makedirs(test_path)\n",
    "\n",
    "    for id, tid in enumerate(tqdm(ids_train, leave=False, desc=\"train\")):\n",
    "        df_id = df[df[trajectoryIDAttribute] == tid]\n",
    "        classe = df_id[targetAttribute].iloc[0]\n",
    "        df_id[attributes].to_csv(F\"{train_path}/{id} s{id} c{classe}.r2\", index=False, header=False)\n",
    "\n",
    "    for id, tid in enumerate(tqdm(ids_test, leave=False, desc=\"test\")):\n",
    "        df_id = df[df[trajectoryIDAttribute] == tid]\n",
    "        classe = df_id[targetAttribute].iloc[0]\n",
    "        df_id[attributes].to_csv(F\"{test_path}/{id} s{id} c{classe}.r2\", index=False, header=False)\n",
    "\n",
    "    #df[df[trajectoryIDAttribute].isin(ids_train)].to_csv(f\"df_{train_path}.csv\")\n",
    "    #df[df[trajectoryIDAttribute].isin(ids_test)].to_csv(f\"df_{test_path}.csv\")\n",
    "    \n",
    "    shutil.make_archive(train_path, 'zip', train_path)\n",
    "    shutil.make_archive(test_path, 'zip', test_path)\n",
    "\n",
    "    shutil.rmtree(train_path)\n",
    "    shutil.rmtree(test_path)"
   ]
  },
  {
   "cell_type": "code",
   "execution_count": 5,
   "id": "41de8aaf-6847-4031-90ad-27421fcced54",
   "metadata": {},
   "outputs": [
    {
     "data": {
      "application/vnd.jupyter.widget-view+json": {
       "model_id": "6d56d6cfbaa9468bb719481324cc7b56",
       "version_major": 2,
       "version_minor": 0
      },
      "text/plain": [
       "  0%|          | 0/13 [00:00<?, ?it/s]"
      ]
     },
     "metadata": {},
     "output_type": "display_data"
    },
    {
     "data": {
      "application/vnd.jupyter.widget-view+json": {
       "model_id": "91a0cebcffe94ef394f5f8e14797094d",
       "version_major": 2,
       "version_minor": 0
      },
      "text/plain": [
       "train:   0%|          | 0/140 [00:00<?, ?it/s]"
      ]
     },
     "metadata": {},
     "output_type": "display_data"
    },
    {
     "data": {
      "application/vnd.jupyter.widget-view+json": {
       "model_id": "63ffdf7b4b93471fa4c84b89fa9a5a9c",
       "version_major": 2,
       "version_minor": 0
      },
      "text/plain": [
       "test:   0%|          | 0/60 [00:00<?, ?it/s]"
      ]
     },
     "metadata": {},
     "output_type": "display_data"
    },
    {
     "data": {
      "application/vnd.jupyter.widget-view+json": {
       "model_id": "1efef73dc66d4851ac62b041de43592a",
       "version_major": 2,
       "version_minor": 0
      },
      "text/plain": [
       "train:   0%|          | 0/140 [00:00<?, ?it/s]"
      ]
     },
     "metadata": {},
     "output_type": "display_data"
    },
    {
     "data": {
      "application/vnd.jupyter.widget-view+json": {
       "model_id": "e9c205083af542df80dee37d68581c71",
       "version_major": 2,
       "version_minor": 0
      },
      "text/plain": [
       "test:   0%|          | 0/60 [00:00<?, ?it/s]"
      ]
     },
     "metadata": {},
     "output_type": "display_data"
    },
    {
     "data": {
      "application/vnd.jupyter.widget-view+json": {
       "model_id": "800736c5572549baa294d2cf92e27bfc",
       "version_major": 2,
       "version_minor": 0
      },
      "text/plain": [
       "train:   0%|          | 0/140 [00:00<?, ?it/s]"
      ]
     },
     "metadata": {},
     "output_type": "display_data"
    },
    {
     "data": {
      "application/vnd.jupyter.widget-view+json": {
       "model_id": "f647dc0f5b7d4e6a97b48dd4480a5d0d",
       "version_major": 2,
       "version_minor": 0
      },
      "text/plain": [
       "test:   0%|          | 0/60 [00:00<?, ?it/s]"
      ]
     },
     "metadata": {},
     "output_type": "display_data"
    },
    {
     "data": {
      "application/vnd.jupyter.widget-view+json": {
       "model_id": "333f0cf09e2f40e0a595cff2183b93e4",
       "version_major": 2,
       "version_minor": 0
      },
      "text/plain": [
       "train:   0%|          | 0/210 [00:00<?, ?it/s]"
      ]
     },
     "metadata": {},
     "output_type": "display_data"
    },
    {
     "data": {
      "application/vnd.jupyter.widget-view+json": {
       "model_id": "7fb04cd5eba04cbaae06f0bd3920143e",
       "version_major": 2,
       "version_minor": 0
      },
      "text/plain": [
       "test:   0%|          | 0/90 [00:00<?, ?it/s]"
      ]
     },
     "metadata": {},
     "output_type": "display_data"
    },
    {
     "data": {
      "application/vnd.jupyter.widget-view+json": {
       "model_id": "cdd290a59fb84a6796b5113081451c7d",
       "version_major": 2,
       "version_minor": 0
      },
      "text/plain": [
       "train:   0%|          | 0/630 [00:00<?, ?it/s]"
      ]
     },
     "metadata": {},
     "output_type": "display_data"
    },
    {
     "data": {
      "application/vnd.jupyter.widget-view+json": {
       "model_id": "a36b1071601645c2b1b4b616921f2130",
       "version_major": 2,
       "version_minor": 0
      },
      "text/plain": [
       "test:   0%|          | 0/270 [00:00<?, ?it/s]"
      ]
     },
     "metadata": {},
     "output_type": "display_data"
    },
    {
     "data": {
      "application/vnd.jupyter.widget-view+json": {
       "model_id": "37798ab00476471b977b62f693b31b51",
       "version_major": 2,
       "version_minor": 0
      },
      "text/plain": [
       "train:   0%|          | 0/420 [00:00<?, ?it/s]"
      ]
     },
     "metadata": {},
     "output_type": "display_data"
    },
    {
     "data": {
      "application/vnd.jupyter.widget-view+json": {
       "model_id": "f22003447a96427fbbb86d20d5b9b312",
       "version_major": 2,
       "version_minor": 0
      },
      "text/plain": [
       "test:   0%|          | 0/180 [00:00<?, ?it/s]"
      ]
     },
     "metadata": {},
     "output_type": "display_data"
    },
    {
     "data": {
      "application/vnd.jupyter.widget-view+json": {
       "model_id": "f1d2a30dc4384da8a1da157cacf34274",
       "version_major": 2,
       "version_minor": 0
      },
      "text/plain": [
       "train:   0%|          | 0/420 [00:00<?, ?it/s]"
      ]
     },
     "metadata": {},
     "output_type": "display_data"
    },
    {
     "data": {
      "application/vnd.jupyter.widget-view+json": {
       "model_id": "1a8ecc8ad90f430c84356906628be7e8",
       "version_major": 2,
       "version_minor": 0
      },
      "text/plain": [
       "test:   0%|          | 0/180 [00:00<?, ?it/s]"
      ]
     },
     "metadata": {},
     "output_type": "display_data"
    },
    {
     "data": {
      "application/vnd.jupyter.widget-view+json": {
       "model_id": "77416341e5bb426f83f354d66c194a10",
       "version_major": 2,
       "version_minor": 0
      },
      "text/plain": [
       "train:   0%|          | 0/420 [00:00<?, ?it/s]"
      ]
     },
     "metadata": {},
     "output_type": "display_data"
    },
    {
     "data": {
      "application/vnd.jupyter.widget-view+json": {
       "model_id": "efb4d4bf7bb14155967794e61ef6644a",
       "version_major": 2,
       "version_minor": 0
      },
      "text/plain": [
       "test:   0%|          | 0/180 [00:00<?, ?it/s]"
      ]
     },
     "metadata": {},
     "output_type": "display_data"
    },
    {
     "data": {
      "application/vnd.jupyter.widget-view+json": {
       "model_id": "93ec5114fd06446bb88b09a758490147",
       "version_major": 2,
       "version_minor": 0
      },
      "text/plain": [
       "train:   0%|          | 0/1260 [00:00<?, ?it/s]"
      ]
     },
     "metadata": {},
     "output_type": "display_data"
    },
    {
     "data": {
      "application/vnd.jupyter.widget-view+json": {
       "model_id": "3c110b95d0d14bb9a650293c725408a3",
       "version_major": 2,
       "version_minor": 0
      },
      "text/plain": [
       "test:   0%|          | 0/540 [00:00<?, ?it/s]"
      ]
     },
     "metadata": {},
     "output_type": "display_data"
    },
    {
     "data": {
      "application/vnd.jupyter.widget-view+json": {
       "model_id": "7f524aef35c44c44b6b6ee8784e445de",
       "version_major": 2,
       "version_minor": 0
      },
      "text/plain": [
       "train:   0%|          | 0/420 [00:00<?, ?it/s]"
      ]
     },
     "metadata": {},
     "output_type": "display_data"
    },
    {
     "data": {
      "application/vnd.jupyter.widget-view+json": {
       "model_id": "546af6374cee4e118141f5ec2ab2e136",
       "version_major": 2,
       "version_minor": 0
      },
      "text/plain": [
       "test:   0%|          | 0/180 [00:00<?, ?it/s]"
      ]
     },
     "metadata": {},
     "output_type": "display_data"
    },
    {
     "data": {
      "application/vnd.jupyter.widget-view+json": {
       "model_id": "f10b1282e01e4dca869dc0d9534897c5",
       "version_major": 2,
       "version_minor": 0
      },
      "text/plain": [
       "train:   0%|          | 0/420 [00:00<?, ?it/s]"
      ]
     },
     "metadata": {},
     "output_type": "display_data"
    },
    {
     "data": {
      "application/vnd.jupyter.widget-view+json": {
       "model_id": "871f782472f94c63bf78901b1df92af1",
       "version_major": 2,
       "version_minor": 0
      },
      "text/plain": [
       "test:   0%|          | 0/180 [00:00<?, ?it/s]"
      ]
     },
     "metadata": {},
     "output_type": "display_data"
    },
    {
     "data": {
      "application/vnd.jupyter.widget-view+json": {
       "model_id": "f562a2e87ffa4aedb2dc84f48f0c515f",
       "version_major": 2,
       "version_minor": 0
      },
      "text/plain": [
       "train:   0%|          | 0/420 [00:00<?, ?it/s]"
      ]
     },
     "metadata": {},
     "output_type": "display_data"
    },
    {
     "data": {
      "application/vnd.jupyter.widget-view+json": {
       "model_id": "032ea41e97cd42d6a3821312cdc93acd",
       "version_major": 2,
       "version_minor": 0
      },
      "text/plain": [
       "test:   0%|          | 0/180 [00:00<?, ?it/s]"
      ]
     },
     "metadata": {},
     "output_type": "display_data"
    },
    {
     "data": {
      "application/vnd.jupyter.widget-view+json": {
       "model_id": "1731fdbee0284a94b916dd99a1fa0735",
       "version_major": 2,
       "version_minor": 0
      },
      "text/plain": [
       "train:   0%|          | 0/420 [00:00<?, ?it/s]"
      ]
     },
     "metadata": {},
     "output_type": "display_data"
    },
    {
     "data": {
      "application/vnd.jupyter.widget-view+json": {
       "model_id": "9f259757e5ea458d8694a0d7c92374a7",
       "version_major": 2,
       "version_minor": 0
      },
      "text/plain": [
       "test:   0%|          | 0/180 [00:00<?, ?it/s]"
      ]
     },
     "metadata": {},
     "output_type": "display_data"
    }
   ],
   "source": [
    "datasets = {\n",
    "    \"simple_shape\": df_simple_shape,\n",
    "    \"simple_shape_time\": df_simple_shape_time,\n",
    "    \"simple_time\": df_simple_time,\n",
    "    \"simple_yao\": df_simple_yao,\n",
    "\n",
    "    \"sumo_cities\": df_sumo_cities,\n",
    "    \"sumo_cities_grid_vs_borgo\": df_sumo_cities_grid_vs_borgo,\n",
    "    \"sumo_cities_borgo_vs_mixed\": df_sumo_cities_borgo_vs_mixed,\n",
    "    \"sumo_cities_mixed_vs_grid\": df_sumo_cities_mixed_vs_grid,\n",
    "    \"sumo_all_car_vs_bikes\": df_sumo_all_car_vs_bikes,\n",
    "    \"sumo_cities_car_vs_bikes\": df_sumo_cities_car_vs_bikes,\n",
    "    \"sumo_grid_car_vs_bikes\": df_sumo_grid_car_vs_bikes,\n",
    "    \"sumo_borgo_car_vs_bikes\": df_sumo_borgo_car_vs_bikes,\n",
    "    \"sumo_mixed_car_vs_bikes\": df_sumo_mixed_car_vs_bikes,\n",
    "}\n",
    "\n",
    "params = {'trajectoryIDAttribute': \"tid\", 'targetAttribute': \"y\", 'timestampAttribute': \"time\", 'latAttr': \"lat\", 'lonAttr': \"lon\"}\n",
    "\n",
    "progress = tqdm(datasets.items())\n",
    "for name, d in progress:\n",
    "    df = d.copy()\n",
    "    progress.set_description(name)\n",
    "    base_path = \"dataset_for_movelets/\"+name\n",
    "    if not os.path.exists(base_path): \n",
    "        os.mkdir(base_path)\n",
    "\n",
    "    if \"sumo\" in name:\n",
    "        df_count = df.groupby(\"tid\").size()\n",
    "        df_count = df_count[(df_count > 60) & (df_count < 60 * 20)]\n",
    "        df0 = df[df.tid.isin(df_count.keys())]\n",
    "        df = undersample(df0, 300)\n",
    "    \n",
    "    prepareForShapelet(df=df, train_path=f\"{base_path}/train_{name}\", test_path=f\"{base_path}/test_{name}\", **params)"
   ]
  },
  {
   "cell_type": "code",
   "execution_count": null,
   "id": "f30997e8-07ce-4e2e-a08a-3b0ca2590a95",
   "metadata": {},
   "outputs": [],
   "source": [
    "import numpy as np\n",
    "np.unique(df_sumo_cities[\"tid\"], return_index=True)"
   ]
  },
  {
   "cell_type": "code",
   "execution_count": null,
   "id": "0e1b135b-ad6c-4cb8-ac21-36ea787202c7",
   "metadata": {},
   "outputs": [],
   "source": []
  },
  {
   "cell_type": "code",
   "execution_count": null,
   "id": "04fcd674-6837-40df-9cf7-dbf38210d39d",
   "metadata": {},
   "outputs": [],
   "source": []
  },
  {
   "cell_type": "code",
   "execution_count": null,
   "id": "8fd67c6f-82a7-4e64-8656-3b0eeca2f7fb",
   "metadata": {},
   "outputs": [],
   "source": []
  },
  {
   "cell_type": "code",
   "execution_count": null,
   "id": "11610411-7298-412e-93da-fa2469155035",
   "metadata": {},
   "outputs": [],
   "source": []
  },
  {
   "cell_type": "code",
   "execution_count": null,
   "id": "6087dab1-88c3-46ff-9ff8-e1a30643dde3",
   "metadata": {},
   "outputs": [],
   "source": [
    "prepareForShapelet(df=df_simple_shape, trajectoryIDAttribute=\"tid\", targetAttribute=\"y\", timestampAttribute=\"time\", latAttr=\"lat\", lonAttr=\"lon\", \n",
    "                   train_path=\"dataset_for_movelets/train_simple_shape\", test_path=\"dataset_for_movelets/test_simple_shape\")"
   ]
  },
  {
   "cell_type": "code",
   "execution_count": null,
   "id": "8e5e2570-437d-42f3-887a-72ffe9b3cb70",
   "metadata": {},
   "outputs": [],
   "source": [
    "mkdir dataset_for_movelets"
   ]
  },
  {
   "cell_type": "code",
   "execution_count": null,
   "id": "1f6b1498-a43e-42b9-9163-e9037cff81fa",
   "metadata": {},
   "outputs": [],
   "source": []
  },
  {
   "cell_type": "code",
   "execution_count": null,
   "id": "535263f9-b454-40d3-b1bc-6f1f5702b69d",
   "metadata": {},
   "outputs": [],
   "source": []
  },
  {
   "cell_type": "code",
   "execution_count": null,
   "id": "6bbda26a-63dd-49a3-bc6a-13f11a81e854",
   "metadata": {},
   "outputs": [],
   "source": []
  },
  {
   "cell_type": "code",
   "execution_count": null,
   "id": "46994edb-3801-41d2-8567-f51b8d43fb6c",
   "metadata": {},
   "outputs": [],
   "source": []
  },
  {
   "cell_type": "code",
   "execution_count": null,
   "id": "eaddda6e-1e55-41c9-af2a-e4f68cd3e624",
   "metadata": {},
   "outputs": [],
   "source": []
  },
  {
   "cell_type": "code",
   "execution_count": null,
   "id": "66cad474-b5c7-462d-95b3-2ee49db99951",
   "metadata": {},
   "outputs": [],
   "source": []
  },
  {
   "cell_type": "code",
   "execution_count": null,
   "id": "77ed1d2d-6d8b-4ab3-910d-07922ea06169",
   "metadata": {},
   "outputs": [],
   "source": []
  },
  {
   "cell_type": "code",
   "execution_count": null,
   "id": "5f8d65ec9d40a695",
   "metadata": {
    "collapsed": false,
    "jupyter": {
     "outputs_hidden": false
    }
   },
   "outputs": [],
   "source": []
  }
 ],
 "metadata": {
  "kernelspec": {
   "display_name": "Python 3 (ipykernel)",
   "language": "python",
   "name": "python3"
  },
  "language_info": {
   "codemirror_mode": {
    "name": "ipython",
    "version": 3
   },
   "file_extension": ".py",
   "mimetype": "text/x-python",
   "name": "python",
   "nbconvert_exporter": "python",
   "pygments_lexer": "ipython3",
   "version": "3.10.12"
  }
 },
 "nbformat": 4,
 "nbformat_minor": 5
}

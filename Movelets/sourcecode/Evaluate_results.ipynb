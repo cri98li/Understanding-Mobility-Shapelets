{
 "cells": [
  {
   "cell_type": "code",
   "execution_count": 47,
   "id": "initial_id",
   "metadata": {
    "ExecuteTime": {
     "end_time": "2025-03-17T15:24:41.147048Z",
     "start_time": "2025-03-17T15:24:40.236733Z"
    }
   },
   "outputs": [],
   "source": [
    "import pandas as pd\n",
    "import numpy as np\n",
    "from tqdm.auto import tqdm\n",
    "import matplotlib.pyplot as plt\n",
    "from glob import glob\n",
    "import json\n",
    "import zipfile\n",
    "import tempfile"
   ]
  },
  {
   "cell_type": "code",
   "execution_count": 48,
   "id": "c9e484d49a045ffd",
   "metadata": {
    "ExecuteTime": {
     "end_time": "2025-03-17T15:24:46.757176Z",
     "start_time": "2025-03-17T15:24:46.753805Z"
    }
   },
   "outputs": [
    {
     "data": {
      "text/plain": [
       "['dataset_for_movelets/simple_yao/res_simple_yaotrain.csv',\n",
       " 'dataset_for_movelets/simple_yao/res_simple_yaomoveletsOnTest.json',\n",
       " 'dataset_for_movelets/simple_yao/train_simple_yao.zip',\n",
       " 'dataset_for_movelets/simple_yao/res_simple_yaotest.csv',\n",
       " 'dataset_for_movelets/simple_yao/res_simple_yaomoveletsOnTrain.json',\n",
       " 'dataset_for_movelets/simple_yao/test_simple_yao.zip']"
      ]
     },
     "execution_count": 48,
     "metadata": {},
     "output_type": "execute_result"
    }
   ],
   "source": [
    "glob(\"dataset_for_movelets/simple_yao/*\")"
   ]
  },
  {
   "cell_type": "code",
   "execution_count": 59,
   "id": "069ac0ed-5215-49b9-9a77-8baf5fbc189e",
   "metadata": {},
   "outputs": [
    {
     "name": "stdout",
     "output_type": "stream",
     "text": [
      "['/tmp/tmpf16vl8uz/10 s10 ccircling.r2']\n"
     ]
    },
    {
     "data": {
      "text/html": [
       "<div>\n",
       "<style scoped>\n",
       "    .dataframe tbody tr th:only-of-type {\n",
       "        vertical-align: middle;\n",
       "    }\n",
       "\n",
       "    .dataframe tbody tr th {\n",
       "        vertical-align: top;\n",
       "    }\n",
       "\n",
       "    .dataframe thead th {\n",
       "        text-align: right;\n",
       "    }\n",
       "</style>\n",
       "<table border=\"1\" class=\"dataframe\">\n",
       "  <thead>\n",
       "    <tr style=\"text-align: right;\">\n",
       "      <th></th>\n",
       "      <th>t</th>\n",
       "      <th>lon</th>\n",
       "      <th>lat</th>\n",
       "    </tr>\n",
       "  </thead>\n",
       "  <tbody>\n",
       "    <tr>\n",
       "      <th>0</th>\n",
       "      <td>0.0</td>\n",
       "      <td>-0.000000</td>\n",
       "      <td>0.000000</td>\n",
       "    </tr>\n",
       "    <tr>\n",
       "      <th>1</th>\n",
       "      <td>1.0</td>\n",
       "      <td>0.238461</td>\n",
       "      <td>-0.386110</td>\n",
       "    </tr>\n",
       "    <tr>\n",
       "      <th>2</th>\n",
       "      <td>2.0</td>\n",
       "      <td>-0.375518</td>\n",
       "      <td>5.978642</td>\n",
       "    </tr>\n",
       "    <tr>\n",
       "      <th>3</th>\n",
       "      <td>3.0</td>\n",
       "      <td>-5.547720</td>\n",
       "      <td>19.118422</td>\n",
       "    </tr>\n",
       "    <tr>\n",
       "      <th>4</th>\n",
       "      <td>5.0</td>\n",
       "      <td>-16.246067</td>\n",
       "      <td>38.526781</td>\n",
       "    </tr>\n",
       "    <tr>\n",
       "      <th>...</th>\n",
       "      <td>...</td>\n",
       "      <td>...</td>\n",
       "      <td>...</td>\n",
       "    </tr>\n",
       "    <tr>\n",
       "      <th>78</th>\n",
       "      <td>119.0</td>\n",
       "      <td>-15.151487</td>\n",
       "      <td>12.906636</td>\n",
       "    </tr>\n",
       "    <tr>\n",
       "      <th>79</th>\n",
       "      <td>121.0</td>\n",
       "      <td>-5.253783</td>\n",
       "      <td>2.192211</td>\n",
       "    </tr>\n",
       "    <tr>\n",
       "      <th>80</th>\n",
       "      <td>122.0</td>\n",
       "      <td>0.435037</td>\n",
       "      <td>5.846320</td>\n",
       "    </tr>\n",
       "    <tr>\n",
       "      <th>81</th>\n",
       "      <td>123.0</td>\n",
       "      <td>-5.230255</td>\n",
       "      <td>19.020728</td>\n",
       "    </tr>\n",
       "    <tr>\n",
       "      <th>82</th>\n",
       "      <td>125.0</td>\n",
       "      <td>-15.350102</td>\n",
       "      <td>38.749622</td>\n",
       "    </tr>\n",
       "  </tbody>\n",
       "</table>\n",
       "<p>83 rows × 3 columns</p>\n",
       "</div>"
      ],
      "text/plain": [
       "        t        lon        lat\n",
       "0     0.0  -0.000000   0.000000\n",
       "1     1.0   0.238461  -0.386110\n",
       "2     2.0  -0.375518   5.978642\n",
       "3     3.0  -5.547720  19.118422\n",
       "4     5.0 -16.246067  38.526781\n",
       "..    ...        ...        ...\n",
       "78  119.0 -15.151487  12.906636\n",
       "79  121.0  -5.253783   2.192211\n",
       "80  122.0   0.435037   5.846320\n",
       "81  123.0  -5.230255  19.020728\n",
       "82  125.0 -15.350102  38.749622\n",
       "\n",
       "[83 rows x 3 columns]"
      ]
     },
     "execution_count": 59,
     "metadata": {},
     "output_type": "execute_result"
    }
   ],
   "source": [
    "def get_trajectory(zip_file, trajectory_id):\n",
    "    with tempfile.TemporaryDirectory() as tempdir:\n",
    "        with zipfile.ZipFile(zip_file) as zf:\n",
    "            zf.extractall(str(tempdir))\n",
    "\n",
    "        matching_files = glob(str(tempdir)+f\"/{trajectory_id} *.r2\")\n",
    "        assert len(matching_files) == 1\n",
    "        print(matching_files)\n",
    "\n",
    "        df = pd.read_csv(matching_files[0], names=[\"t\", \"lon_lat\"])\n",
    "        df[[\"lon\", \"lat\"]] = list(df.lon_lat.apply(lambda x: x.split(\" \")))\n",
    "\n",
    "        return df.drop(columns=[\"lon_lat\"]).astype(float)\n",
    "\n",
    "get_trajectory(\"dataset_for_movelets/simple_yao/train_simple_yao.zip\", \"10\")"
   ]
  },
  {
   "cell_type": "code",
   "execution_count": 60,
   "id": "d5938b85-139f-473d-95c2-5a4c785066c5",
   "metadata": {},
   "outputs": [
    {
     "name": "stdout",
     "output_type": "stream",
     "text": [
      "['/tmp/tmpqqln_ovl/62 s62 cstraight.r2']\n",
      "['/tmp/tmp9a9nyvlr/92 s92 ccircling.r2']\n"
     ]
    },
    {
     "data": {
      "text/plain": [
       "[({'tid': 62, 'start': 13, 'end': 21, 'label': 'straight'},\n",
       "         t        lon        lat\n",
       "  13  21.0  16.882680 -38.823174\n",
       "  14  23.0  18.271881 -42.296518\n",
       "  15  25.0  18.083068 -46.380317\n",
       "  16  26.0  20.920598 -47.520239\n",
       "  17  28.0  21.153652 -51.729385\n",
       "  18  30.0  23.564555 -54.519458\n",
       "  19  31.0  25.163470 -56.212069\n",
       "  20  32.0  25.503553 -58.056581\n",
       "  21  34.0  25.906038 -62.517936),\n",
       " ({'tid': 92, 'start': 15, 'end': 16, 'label': 'circling'},\n",
       "         t       lon        lat\n",
       "  15  20.0 -0.532731  20.267276\n",
       "  16  21.0  0.124456  -0.027089)]"
      ]
     },
     "execution_count": 60,
     "metadata": {},
     "output_type": "execute_result"
    }
   ],
   "source": [
    "def get_shapelets(json_file):\n",
    "    with open(json_file, 'r') as f:\n",
    "        data = json.load(f)\n",
    "\n",
    "    shapelets = []\n",
    "    for shapelet_info in data[\"shapelets\"]:\n",
    "        shapelets.append(\n",
    "            (\n",
    "                {\n",
    "                    \"tid\": shapelet_info[\"trajectory\"],\n",
    "                    \"start\": shapelet_info[\"start\"],\n",
    "                    \"end\": shapelet_info[\"end\"],\n",
    "                    \"label\": shapelet_info[\"label\"],\n",
    "                },\n",
    "                get_trajectory(json_file.split(\"moveletsOnTrain\")[0].split(\"moveletsOnTest\")[0].replace(\"res\", \"train\")+\".zip\", \n",
    "                               shapelet_info[\"trajectory\"]).iloc[shapelet_info[\"start\"]:shapelet_info[\"end\"]+1]\n",
    "            )\n",
    "        )\n",
    "\n",
    "    return shapelets\n",
    "\n",
    "get_shapelets('dataset_for_movelets/simple_yao/res_simple_yaomoveletsOnTrain.json')"
   ]
  },
  {
   "cell_type": "code",
   "execution_count": 93,
   "id": "cb8d7125-35fc-4476-9832-3f70f08d3f5e",
   "metadata": {},
   "outputs": [],
   "source": [
    "def retrive_true_label(dataset_path):\n",
    "    dataset_name = dataset_path.split(\"/\")[-1]\n",
    "    train_path = f\"{dataset_path}/train_{dataset_name}.zip\"\n",
    "    test_path = f\"{dataset_path}/test_{dataset_name}.zip\"\n",
    "\n",
    "    labels = dict(\n",
    "        #dict(tid: label)\n",
    "    )\n",
    "\n",
    "    with tempfile.TemporaryDirectory() as tempdir:\n",
    "        with zipfile.ZipFile(train_path) as zf:\n",
    "            zf.extractall(str(tempdir))\n",
    "\n",
    "        for filename in glob(f\"{tempdir}/*.r2\"):\n",
    "            tid, target = filename[:-3].split(\"/\")[-1].split(\" \")[::2]\n",
    "            labels[\"train_\"+tid] = target[1:]\n",
    "\n",
    "    with tempfile.TemporaryDirectory() as tempdir:\n",
    "        with zipfile.ZipFile(test_path) as zf:\n",
    "            zf.extractall(str(tempdir))\n",
    "\n",
    "        for filename in glob(f\"{tempdir}/*.r2\"):\n",
    "            tid, target = filename[:-3].split(\"/\")[-1].split(\" \")[::2]\n",
    "            labels[\"test_\"+tid] = target[1:]\n",
    "\n",
    "    return labels"
   ]
  },
  {
   "cell_type": "code",
   "execution_count": 112,
   "id": "5e2df00f-12ce-46ce-aeaf-494224f9d31d",
   "metadata": {},
   "outputs": [
    {
     "data": {
      "text/html": [
       "<div>\n",
       "<style scoped>\n",
       "    .dataframe tbody tr th:only-of-type {\n",
       "        vertical-align: middle;\n",
       "    }\n",
       "\n",
       "    .dataframe tbody tr th {\n",
       "        vertical-align: top;\n",
       "    }\n",
       "\n",
       "    .dataframe thead th {\n",
       "        text-align: right;\n",
       "    }\n",
       "</style>\n",
       "<table border=\"1\" class=\"dataframe\">\n",
       "  <thead>\n",
       "    <tr style=\"text-align: right;\">\n",
       "      <th></th>\n",
       "      <th>tid</th>\n",
       "      <th>set</th>\n",
       "      <th>label</th>\n",
       "      <th>true_label</th>\n",
       "      <th>shape_0</th>\n",
       "      <th>shape_1</th>\n",
       "    </tr>\n",
       "  </thead>\n",
       "  <tbody>\n",
       "    <tr>\n",
       "      <th>train_0</th>\n",
       "      <td>train_0</td>\n",
       "      <td>train</td>\n",
       "      <td>straight</td>\n",
       "      <td>straight</td>\n",
       "      <td>69.717405</td>\n",
       "      <td>14.449962</td>\n",
       "    </tr>\n",
       "    <tr>\n",
       "      <th>train_1</th>\n",
       "      <td>train_1</td>\n",
       "      <td>train</td>\n",
       "      <td>bending</td>\n",
       "      <td>bending</td>\n",
       "      <td>62.685772</td>\n",
       "      <td>14.391581</td>\n",
       "    </tr>\n",
       "    <tr>\n",
       "      <th>train_10</th>\n",
       "      <td>train_10</td>\n",
       "      <td>train</td>\n",
       "      <td>circling</td>\n",
       "      <td>circling</td>\n",
       "      <td>157.803932</td>\n",
       "      <td>14.338552</td>\n",
       "    </tr>\n",
       "    <tr>\n",
       "      <th>train_100</th>\n",
       "      <td>train_100</td>\n",
       "      <td>train</td>\n",
       "      <td>bending</td>\n",
       "      <td>bending</td>\n",
       "      <td>45.586129</td>\n",
       "      <td>14.40647</td>\n",
       "    </tr>\n",
       "    <tr>\n",
       "      <th>train_101</th>\n",
       "      <td>train_101</td>\n",
       "      <td>train</td>\n",
       "      <td>straight</td>\n",
       "      <td>straight</td>\n",
       "      <td>46.241823</td>\n",
       "      <td>14.479542</td>\n",
       "    </tr>\n",
       "    <tr>\n",
       "      <th>...</th>\n",
       "      <td>...</td>\n",
       "      <td>...</td>\n",
       "      <td>...</td>\n",
       "      <td>...</td>\n",
       "      <td>...</td>\n",
       "      <td>...</td>\n",
       "    </tr>\n",
       "    <tr>\n",
       "      <th>test_86</th>\n",
       "      <td>test_86</td>\n",
       "      <td>test</td>\n",
       "      <td>straight</td>\n",
       "      <td>straight</td>\n",
       "      <td>65.624115</td>\n",
       "      <td>14.627296</td>\n",
       "    </tr>\n",
       "    <tr>\n",
       "      <th>test_87</th>\n",
       "      <td>test_87</td>\n",
       "      <td>test</td>\n",
       "      <td>straight</td>\n",
       "      <td>straight</td>\n",
       "      <td>45.606478</td>\n",
       "      <td>14.544125</td>\n",
       "    </tr>\n",
       "    <tr>\n",
       "      <th>test_88</th>\n",
       "      <td>test_88</td>\n",
       "      <td>test</td>\n",
       "      <td>circling</td>\n",
       "      <td>circling</td>\n",
       "      <td>116.293559</td>\n",
       "      <td>14.336801</td>\n",
       "    </tr>\n",
       "    <tr>\n",
       "      <th>test_89</th>\n",
       "      <td>test_89</td>\n",
       "      <td>test</td>\n",
       "      <td>straight</td>\n",
       "      <td>straight</td>\n",
       "      <td>45.836359</td>\n",
       "      <td>14.412516</td>\n",
       "    </tr>\n",
       "    <tr>\n",
       "      <th>test_9</th>\n",
       "      <td>test_9</td>\n",
       "      <td>test</td>\n",
       "      <td>bending</td>\n",
       "      <td>bending</td>\n",
       "      <td>70.268902</td>\n",
       "      <td>14.612597</td>\n",
       "    </tr>\n",
       "  </tbody>\n",
       "</table>\n",
       "<p>300 rows × 6 columns</p>\n",
       "</div>"
      ],
      "text/plain": [
       "                 tid    set     label true_label     shape_0    shape_1\n",
       "train_0      train_0  train  straight   straight   69.717405  14.449962\n",
       "train_1      train_1  train   bending    bending   62.685772  14.391581\n",
       "train_10    train_10  train  circling   circling  157.803932  14.338552\n",
       "train_100  train_100  train   bending    bending   45.586129   14.40647\n",
       "train_101  train_101  train  straight   straight   46.241823  14.479542\n",
       "...              ...    ...       ...        ...         ...        ...\n",
       "test_86      test_86   test  straight   straight   65.624115  14.627296\n",
       "test_87      test_87   test  straight   straight   45.606478  14.544125\n",
       "test_88      test_88   test  circling   circling  116.293559  14.336801\n",
       "test_89      test_89   test  straight   straight   45.836359  14.412516\n",
       "test_9        test_9   test   bending    bending   70.268902  14.612597\n",
       "\n",
       "[300 rows x 6 columns]"
      ]
     },
     "execution_count": 112,
     "metadata": {},
     "output_type": "execute_result"
    }
   ],
   "source": [
    "def retrive_similarities_and_prediction(dataset_path):\n",
    "    dataset_name = dataset_path.split(\"/\")[-1]\n",
    "    train_path = f\"{dataset_path}/res_{dataset_name}moveletsOnTrain.json\"\n",
    "    test_path = f\"{dataset_path}/res_{dataset_name}moveletsOnTest.json\"\n",
    "\n",
    "    true_labels = retrive_true_label(dataset_path)\n",
    "\n",
    "    with open(train_path, 'r') as f:\n",
    "        data = json.load(f)\n",
    "    dataset = dict()\n",
    "    for i, el in enumerate(data[\"classes\"]):\n",
    "        dataset[f\"train_{el['tid']}\"] = {\n",
    "            'tid': f\"train_{el['tid']}\",\n",
    "            'set': 'train',\n",
    "            'label': el['label'],\n",
    "            'true_label': true_labels[f\"train_{el['tid']}\"]\n",
    "        }\n",
    "\n",
    "        for shape_idx, shape_info in enumerate(data[\"shapelets\"]):\n",
    "            dataset[f\"train_{el['tid']}\"] |= {f\"shape_{shape_idx}\": shape_info[\"distances\"][i]}\n",
    "\n",
    "    with open(test_path, 'r') as f:\n",
    "        data = json.load(f)\n",
    "    for i, el in enumerate(data[\"classes\"]):\n",
    "        dataset[f\"test_{el['tid']}\"] = {\n",
    "            'tid': f\"test_{el['tid']}\",\n",
    "            'set': 'test',\n",
    "            'label': el['label'],\n",
    "            'true_label': true_labels[f\"test_{el['tid']}\"]\n",
    "        }\n",
    "\n",
    "        for shape_idx, shape_info in enumerate(data[\"shapelets\"]):\n",
    "            dataset[f\"test_{el['tid']}\"] |= {f\"shape_{shape_idx}\": shape_info[\"distances\"][i]}\n",
    "\n",
    "    \n",
    "    return pd.DataFrame.from_dict(dataset).T\n",
    "\n",
    "df = retrive_similarities_and_prediction('dataset_for_movelets/simple_yao')\n",
    "\n",
    "df"
   ]
  },
  {
   "cell_type": "code",
   "execution_count": 116,
   "id": "e6d35252-3230-470d-b6fd-5a0a67e973eb",
   "metadata": {},
   "outputs": [
    {
     "data": {
      "text/plain": [
       "{'knn_f1': 0.68, 'dt_f1': 0.72, 'rf_f1': 0.722}"
      ]
     },
     "execution_count": 116,
     "metadata": {},
     "output_type": "execute_result"
    }
   ],
   "source": [
    "from sklearn.tree import DecisionTreeClassifier\n",
    "from sklearn.ensemble import RandomForestClassifier\n",
    "from sklearn.neighbors import KNeighborsClassifier\n",
    "from sklearn.metrics import classification_report, f1_score\n",
    "\n",
    "def train_models_syntetic_datasets(df):\n",
    "    X_train = df[df.set == 'train'].drop(columns=[\"tid\", 'set', 'label', 'true_label']).values\n",
    "    X_test = df[df.set == 'test'].drop(columns=[\"tid\", 'set', 'label', 'true_label']).values\n",
    "    y_train = df[df.set == 'train'].label.values\n",
    "    y_test = df[df.set == 'test'].label.values\n",
    "    \n",
    "    knn = KNeighborsClassifier(n_neighbors=5).fit(X_train, y_train)\n",
    "    dt = DecisionTreeClassifier(max_depth=4).fit(X_train, y_train)\n",
    "    rf = RandomForestClassifier(n_estimators=500).fit(X_train, y_train)\n",
    "    \n",
    "    knn_y_pred = knn.predict(X_test)\n",
    "    dt_y_pred = dt.predict(X_test)\n",
    "    rf_y_pred = rf.predict(X_test)\n",
    "    \n",
    "    return {\n",
    "        'knn_f1': round(f1_score(y_pred = knn_y_pred, y_true=y_test, average='macro'), 3),\n",
    "        'dt_f1': round(f1_score(y_pred = dt_y_pred, y_true=y_test, average='macro'), 3),\n",
    "        'rf_f1': round(f1_score(y_pred = rf_y_pred, y_true=y_test, average='macro'), 3),\n",
    "    }\n",
    "\n",
    "train_models_syntetic_datasets(retrive_similarities_and_prediction('dataset_for_movelets/simple_yao'))"
   ]
  },
  {
   "cell_type": "code",
   "execution_count": 87,
   "id": "399c70970d42087c",
   "metadata": {},
   "outputs": [
    {
     "data": {
      "application/json": {
       "classes": [
        {
         "label": "straight",
         "tid": 0
        },
        {
         "label": "bending",
         "tid": 1
        },
        {
         "label": "circling",
         "tid": 10
        },
        {
         "label": "bending",
         "tid": 100
        },
        {
         "label": "straight",
         "tid": 101
        },
        {
         "label": "circling",
         "tid": 102
        },
        {
         "label": "circling",
         "tid": 103
        },
        {
         "label": "straight",
         "tid": 104
        },
        {
         "label": "straight",
         "tid": 105
        },
        {
         "label": "circling",
         "tid": 106
        },
        {
         "label": "straight",
         "tid": 107
        },
        {
         "label": "straight",
         "tid": 108
        },
        {
         "label": "bending",
         "tid": 109
        },
        {
         "label": "bending",
         "tid": 11
        },
        {
         "label": "circling",
         "tid": 110
        },
        {
         "label": "circling",
         "tid": 111
        },
        {
         "label": "circling",
         "tid": 112
        },
        {
         "label": "straight",
         "tid": 113
        },
        {
         "label": "circling",
         "tid": 114
        },
        {
         "label": "bending",
         "tid": 115
        },
        {
         "label": "bending",
         "tid": 116
        },
        {
         "label": "straight",
         "tid": 117
        },
        {
         "label": "bending",
         "tid": 118
        },
        {
         "label": "bending",
         "tid": 119
        },
        {
         "label": "straight",
         "tid": 12
        },
        {
         "label": "straight",
         "tid": 120
        },
        {
         "label": "circling",
         "tid": 121
        },
        {
         "label": "circling",
         "tid": 122
        },
        {
         "label": "straight",
         "tid": 123
        },
        {
         "label": "bending",
         "tid": 124
        },
        {
         "label": "straight",
         "tid": 125
        },
        {
         "label": "circling",
         "tid": 126
        },
        {
         "label": "circling",
         "tid": 127
        },
        {
         "label": "straight",
         "tid": 128
        },
        {
         "label": "straight",
         "tid": 129
        },
        {
         "label": "bending",
         "tid": 13
        },
        {
         "label": "bending",
         "tid": 130
        },
        {
         "label": "bending",
         "tid": 131
        },
        {
         "label": "straight",
         "tid": 132
        },
        {
         "label": "circling",
         "tid": 133
        },
        {
         "label": "straight",
         "tid": 134
        },
        {
         "label": "bending",
         "tid": 135
        },
        {
         "label": "bending",
         "tid": 136
        },
        {
         "label": "bending",
         "tid": 137
        },
        {
         "label": "circling",
         "tid": 138
        },
        {
         "label": "circling",
         "tid": 139
        },
        {
         "label": "circling",
         "tid": 14
        },
        {
         "label": "bending",
         "tid": 140
        },
        {
         "label": "bending",
         "tid": 141
        },
        {
         "label": "circling",
         "tid": 142
        },
        {
         "label": "bending",
         "tid": 143
        },
        {
         "label": "circling",
         "tid": 144
        },
        {
         "label": "bending",
         "tid": 145
        },
        {
         "label": "straight",
         "tid": 146
        },
        {
         "label": "bending",
         "tid": 147
        },
        {
         "label": "circling",
         "tid": 148
        },
        {
         "label": "circling",
         "tid": 149
        },
        {
         "label": "circling",
         "tid": 15
        },
        {
         "label": "circling",
         "tid": 150
        },
        {
         "label": "straight",
         "tid": 151
        },
        {
         "label": "bending",
         "tid": 152
        },
        {
         "label": "circling",
         "tid": 153
        },
        {
         "label": "bending",
         "tid": 154
        },
        {
         "label": "straight",
         "tid": 155
        },
        {
         "label": "circling",
         "tid": 156
        },
        {
         "label": "bending",
         "tid": 157
        },
        {
         "label": "circling",
         "tid": 158
        },
        {
         "label": "straight",
         "tid": 159
        },
        {
         "label": "bending",
         "tid": 16
        },
        {
         "label": "circling",
         "tid": 160
        },
        {
         "label": "bending",
         "tid": 161
        },
        {
         "label": "circling",
         "tid": 162
        },
        {
         "label": "circling",
         "tid": 163
        },
        {
         "label": "bending",
         "tid": 164
        },
        {
         "label": "circling",
         "tid": 165
        },
        {
         "label": "bending",
         "tid": 166
        },
        {
         "label": "straight",
         "tid": 167
        },
        {
         "label": "straight",
         "tid": 168
        },
        {
         "label": "straight",
         "tid": 169
        },
        {
         "label": "straight",
         "tid": 17
        },
        {
         "label": "bending",
         "tid": 170
        },
        {
         "label": "straight",
         "tid": 171
        },
        {
         "label": "circling",
         "tid": 172
        },
        {
         "label": "circling",
         "tid": 173
        },
        {
         "label": "circling",
         "tid": 174
        },
        {
         "label": "circling",
         "tid": 175
        },
        {
         "label": "bending",
         "tid": 176
        },
        {
         "label": "bending",
         "tid": 177
        },
        {
         "label": "circling",
         "tid": 178
        },
        {
         "label": "straight",
         "tid": 179
        },
        {
         "label": "straight",
         "tid": 18
        },
        {
         "label": "straight",
         "tid": 180
        },
        {
         "label": "straight",
         "tid": 181
        },
        {
         "label": "circling",
         "tid": 182
        },
        {
         "label": "circling",
         "tid": 183
        },
        {
         "label": "bending",
         "tid": 184
        },
        {
         "label": "bending",
         "tid": 185
        },
        {
         "label": "bending",
         "tid": 186
        },
        {
         "label": "circling",
         "tid": 187
        },
        {
         "label": "straight",
         "tid": 188
        },
        {
         "label": "bending",
         "tid": 189
        },
        {
         "label": "bending",
         "tid": 19
        },
        {
         "label": "bending",
         "tid": 190
        },
        {
         "label": "circling",
         "tid": 191
        },
        {
         "label": "bending",
         "tid": 192
        },
        {
         "label": "straight",
         "tid": 193
        },
        {
         "label": "circling",
         "tid": 194
        },
        {
         "label": "bending",
         "tid": 195
        },
        {
         "label": "circling",
         "tid": 196
        },
        {
         "label": "straight",
         "tid": 197
        },
        {
         "label": "bending",
         "tid": 198
        },
        {
         "label": "bending",
         "tid": 199
        },
        {
         "label": "bending",
         "tid": 2
        },
        {
         "label": "straight",
         "tid": 20
        },
        {
         "label": "straight",
         "tid": 200
        },
        {
         "label": "circling",
         "tid": 201
        },
        {
         "label": "straight",
         "tid": 202
        },
        {
         "label": "circling",
         "tid": 203
        },
        {
         "label": "circling",
         "tid": 204
        },
        {
         "label": "bending",
         "tid": 205
        },
        {
         "label": "circling",
         "tid": 206
        },
        {
         "label": "straight",
         "tid": 207
        },
        {
         "label": "straight",
         "tid": 208
        },
        {
         "label": "straight",
         "tid": 209
        },
        {
         "label": "straight",
         "tid": 21
        },
        {
         "label": "straight",
         "tid": 22
        },
        {
         "label": "straight",
         "tid": 23
        },
        {
         "label": "bending",
         "tid": 24
        },
        {
         "label": "circling",
         "tid": 25
        },
        {
         "label": "bending",
         "tid": 26
        },
        {
         "label": "straight",
         "tid": 27
        },
        {
         "label": "circling",
         "tid": 28
        },
        {
         "label": "straight",
         "tid": 29
        },
        {
         "label": "straight",
         "tid": 3
        },
        {
         "label": "circling",
         "tid": 30
        },
        {
         "label": "straight",
         "tid": 31
        },
        {
         "label": "straight",
         "tid": 32
        },
        {
         "label": "straight",
         "tid": 33
        },
        {
         "label": "circling",
         "tid": 34
        },
        {
         "label": "straight",
         "tid": 35
        },
        {
         "label": "circling",
         "tid": 36
        },
        {
         "label": "bending",
         "tid": 37
        },
        {
         "label": "bending",
         "tid": 38
        },
        {
         "label": "bending",
         "tid": 39
        },
        {
         "label": "bending",
         "tid": 4
        },
        {
         "label": "bending",
         "tid": 40
        },
        {
         "label": "bending",
         "tid": 41
        },
        {
         "label": "bending",
         "tid": 42
        },
        {
         "label": "bending",
         "tid": 43
        },
        {
         "label": "straight",
         "tid": 44
        },
        {
         "label": "bending",
         "tid": 45
        },
        {
         "label": "bending",
         "tid": 46
        },
        {
         "label": "bending",
         "tid": 47
        },
        {
         "label": "bending",
         "tid": 48
        },
        {
         "label": "straight",
         "tid": 49
        },
        {
         "label": "straight",
         "tid": 5
        },
        {
         "label": "straight",
         "tid": 50
        },
        {
         "label": "straight",
         "tid": 51
        },
        {
         "label": "circling",
         "tid": 52
        },
        {
         "label": "circling",
         "tid": 53
        },
        {
         "label": "straight",
         "tid": 54
        },
        {
         "label": "circling",
         "tid": 55
        },
        {
         "label": "bending",
         "tid": 56
        },
        {
         "label": "straight",
         "tid": 57
        },
        {
         "label": "circling",
         "tid": 58
        },
        {
         "label": "bending",
         "tid": 59
        },
        {
         "label": "bending",
         "tid": 6
        },
        {
         "label": "circling",
         "tid": 60
        },
        {
         "label": "straight",
         "tid": 61
        },
        {
         "label": "straight",
         "tid": 62
        },
        {
         "label": "circling",
         "tid": 63
        },
        {
         "label": "straight",
         "tid": 64
        },
        {
         "label": "circling",
         "tid": 65
        },
        {
         "label": "straight",
         "tid": 66
        },
        {
         "label": "straight",
         "tid": 67
        },
        {
         "label": "bending",
         "tid": 68
        },
        {
         "label": "circling",
         "tid": 69
        },
        {
         "label": "straight",
         "tid": 7
        },
        {
         "label": "bending",
         "tid": 70
        },
        {
         "label": "circling",
         "tid": 71
        },
        {
         "label": "circling",
         "tid": 72
        },
        {
         "label": "bending",
         "tid": 73
        },
        {
         "label": "circling",
         "tid": 74
        },
        {
         "label": "bending",
         "tid": 75
        },
        {
         "label": "circling",
         "tid": 76
        },
        {
         "label": "straight",
         "tid": 77
        },
        {
         "label": "straight",
         "tid": 78
        },
        {
         "label": "straight",
         "tid": 79
        },
        {
         "label": "straight",
         "tid": 8
        },
        {
         "label": "circling",
         "tid": 80
        },
        {
         "label": "circling",
         "tid": 81
        },
        {
         "label": "bending",
         "tid": 82
        },
        {
         "label": "circling",
         "tid": 83
        },
        {
         "label": "circling",
         "tid": 84
        },
        {
         "label": "straight",
         "tid": 85
        },
        {
         "label": "circling",
         "tid": 86
        },
        {
         "label": "straight",
         "tid": 87
        },
        {
         "label": "bending",
         "tid": 88
        },
        {
         "label": "circling",
         "tid": 89
        },
        {
         "label": "bending",
         "tid": 9
        },
        {
         "label": "straight",
         "tid": 90
        },
        {
         "label": "straight",
         "tid": 91
        },
        {
         "label": "circling",
         "tid": 92
        },
        {
         "label": "bending",
         "tid": 93
        },
        {
         "label": "straight",
         "tid": 94
        },
        {
         "label": "straight",
         "tid": 95
        },
        {
         "label": "circling",
         "tid": 96
        },
        {
         "label": "bending",
         "tid": 97
        },
        {
         "label": "circling",
         "tid": 98
        },
        {
         "label": "bending",
         "tid": 99
        }
       ],
       "shapelets": [
        {
         "distances": [
          69.71740510315256,
          62.68577249151849,
          157.80393178337926,
          45.586128886604,
          46.24182255423165,
          138.55581939509136,
          93.48139300634901,
          68.2723544359276,
          55.92793626231591,
          84.96967887680208,
          53.57214151337305,
          51.89619435343397,
          55.61068773517187,
          68.98168886276292,
          187.88269126898666,
          173.5899911692895,
          87.69255045514718,
          57.394493023054075,
          85.70198628595095,
          58.0039247474166,
          46.47854344321803,
          61.199926859107784,
          45.37299026577932,
          46.77063300632845,
          66.2927971615615,
          65.07069967852328,
          159.24869299903702,
          166.4590259200103,
          66.88808069701999,
          63.20322268621122,
          65.1229157545715,
          168.2960644032296,
          151.45699879820555,
          61.72035896481975,
          74.4792982058704,
          66.09522715845445,
          44.698450599578095,
          40.54500108084865,
          47.40867696941402,
          152.76289798898765,
          65.42395402722671,
          46.699232840192224,
          68.40921871361013,
          49.8516665088292,
          85.92016548085137,
          76.0308483277682,
          136.57386182741524,
          56.68332894954307,
          60.239907163293346,
          150.3553602806879,
          69.94088231108897,
          132.16415941843638,
          62.6599113552804,
          61.59998215074297,
          64.64933878340096,
          84.09075116978144,
          76.00718747786189,
          159.5248019211383,
          85.6014220382543,
          68.47072293903437,
          62.20403745587174,
          106.7077551698481,
          70.27340393575356,
          60.469694957572614,
          161.33131452123547,
          66.66661668042406,
          177.64053627280137,
          48.22987702964043,
          46.15758309033273,
          56.4144920582942,
          68.26847050599072,
          149.33100080226112,
          93.81124176508708,
          65.56149770485567,
          128.673814162001,
          72.64747525106752,
          63.06247356760955,
          65.44224029370542,
          48.696325126346544,
          59.934194077520736,
          52.615388462913515,
          52.0788363406604,
          123.56437702449519,
          86.26268797473652,
          166.44894834569962,
          156.27433637376691,
          70.87031141932027,
          70.33077175889045,
          79.33475198924076,
          68.92600529061302,
          50.63484369951128,
          51.861487432270536,
          44.7955183957848,
          138.8221683617553,
          86.768969896053,
          65.50983386241192,
          67.70358864447925,
          66.26922411172633,
          126.60286303253415,
          46.49462994803517,
          51.79368502063036,
          46.989933969140615,
          69.07566966123193,
          133.63455966578397,
          60.30090477142141,
          50.95831380452214,
          178.472694533228,
          39.56665979800772,
          149.5273643081529,
          65.76417958159875,
          43.510499081676805,
          50.36812356347602,
          69.56804816225905,
          64.73636134252096,
          59.33853775608454,
          113.73118661069135,
          69.92415368513525,
          153.34485327320454,
          146.56970801177127,
          67.23893398258147,
          86.1092480449581,
          60.9921551208887,
          49.07924904263843,
          65.71619492640203,
          68.66765407829375,
          65.29885723924652,
          69.2246964962666,
          62.0952564618747,
          85.75659935077556,
          42.25605828910858,
          65.27530036472946,
          179.85154363783283,
          46.34035157197057,
          57.02036921747937,
          124.6604745707056,
          70.3639326630403,
          61.017203045697045,
          58.95625554188203,
          138.68617604157333,
          66.51408067048837,
          175.6946812881596,
          41.749437014481686,
          70.12613348099718,
          70.18605786969782,
          48.33201312649091,
          43.88206524954228,
          41.47050571485513,
          49.166244573900606,
          45.47850364916782,
          51.61714900906035,
          42.524103687092655,
          61.296988977257364,
          48.73706914874905,
          72.33410418500733,
          45.650123917803995,
          68.65717189236074,
          68.50564515960909,
          50.803848891577296,
          151.37707311041027,
          152.44466550134544,
          62.07878713043924,
          124.77487005502776,
          52.05114399655108,
          63.685738585568764,
          162.96638787539612,
          44.69150338872788,
          65.87818092128818,
          173.32067881630792,
          42.7878094813902,
          43.0874943434472,
          145.74424771407442,
          67.66898520263459,
          109.8001739647915,
          42.82455837456929,
          53.147501245382294,
          63.15207303047067,
          93.83537341880013,
          43.84857102151455,
          72.40291762970669,
          122.95790647425382,
          135.34519986252275,
          60.806372489203184,
          147.47792040800033,
          69.78610631065608,
          94.68800798546867,
          68.54239120000742,
          45.515685292443976,
          50.14012981348078,
          63.15091772887768,
          116.565770955041,
          112.3523182224814,
          71.648786906162,
          161.418305672565,
          142.52129691165092,
          56.49163400811549,
          165.34706871456044,
          56.64377597164841,
          47.259848499726196,
          165.63128437583757,
          70.54826202903926,
          58.527843619175066,
          65.98269232636967,
          169.7987311176305,
          50.32678407145871,
          51.67906930340842,
          56.483136422958694,
          182.64271897406843,
          67.91630394953195,
          171.02676188737968,
          56.246748086253625
         ],
         "end": 21,
         "features": {},
         "label": "straight",
         "maxValues": {
          "points": -1,
          "space": -1
         },
         "positions": [
          0,
          0,
          0,
          0,
          0,
          0,
          0,
          0,
          0,
          0,
          0,
          0,
          0,
          0,
          0,
          0,
          0,
          0,
          0,
          0,
          0,
          0,
          0,
          0,
          0,
          0,
          0,
          0,
          0,
          0,
          0,
          0,
          0,
          0,
          0,
          0,
          0,
          0,
          0,
          0,
          0,
          0,
          0,
          0,
          0,
          0,
          0,
          0,
          0,
          0,
          0,
          0,
          0,
          0,
          0,
          0,
          0,
          0,
          0,
          0,
          0,
          0,
          0,
          0,
          0,
          0,
          0,
          0,
          0,
          0,
          0,
          0,
          0,
          0,
          0,
          0,
          0,
          0,
          0,
          0,
          0,
          0,
          0,
          0,
          0,
          0,
          0,
          0,
          0,
          0,
          0,
          0,
          0,
          0,
          0,
          0,
          0,
          0,
          0,
          0,
          0,
          0,
          0,
          0,
          0,
          0,
          0,
          0,
          0,
          0,
          0,
          0,
          0,
          0,
          0,
          0,
          0,
          0,
          0,
          0,
          0,
          0,
          0,
          0,
          0,
          0,
          0,
          0,
          0,
          0,
          0,
          0,
          0,
          0,
          0,
          0,
          0,
          0,
          0,
          0,
          0,
          0,
          0,
          0,
          0,
          0,
          0,
          0,
          0,
          0,
          0,
          0,
          0,
          0,
          0,
          0,
          0,
          0,
          0,
          0,
          0,
          0,
          0,
          0,
          0,
          0,
          0,
          0,
          0,
          0,
          0,
          0,
          0,
          0,
          0,
          0,
          0,
          0,
          0,
          0,
          0,
          0,
          0,
          0,
          0,
          0,
          0,
          0,
          0,
          0,
          0,
          0,
          0,
          0,
          0,
          0,
          0,
          0,
          0,
          0,
          0,
          0,
          0,
          0,
          0,
          0,
          0,
          0,
          0,
          0
         ],
         "quality": {
          "data": {
           "bestDistBetweenValues": 0,
           "maxDistance": 187.88269126898666,
           "quality": 0.8411569286478652,
           "size": 9,
           "splitpoint": 75.24324284186615,
           "start": 13,
           "tid": 62
          }
         },
         "start": 13,
         "trajectory": 62
        },
        {
         "distances": [
          14.449962007736069,
          14.391581253211472,
          14.338552395119986,
          14.406469686161072,
          14.479541831151222,
          14.340617626410875,
          14.338314277425859,
          14.429049216798315,
          14.519838707286171,
          14.336998344159959,
          14.676871774599702,
          14.424272899262757,
          14.633776458411084,
          14.530495224332688,
          14.338184333098717,
          14.340567391403582,
          14.345221103014644,
          14.445359869081612,
          14.342657267315893,
          14.41038786071874,
          14.420919167070972,
          14.598365481162288,
          14.409959944711563,
          14.408198699093415,
          14.41919902470221,
          14.429363236616659,
          14.337733599622062,
          14.337644737748466,
          14.60945441866286,
          14.357000809452318,
          14.66983369782912,
          14.337789022172887,
          14.348325188945028,
          14.4324758234157,
          14.336340795773603,
          14.407860159467573,
          14.467599816963734,
          14.576261065035975,
          14.527294823278517,
          14.342171222016313,
          14.381928072027094,
          14.395197464808675,
          14.572753748724132,
          14.447274070935727,
          14.337974720242551,
          14.340818773721375,
          14.34033165262983,
          14.419602983485875,
          14.416463839704344,
          14.337550697165225,
          14.588509463688922,
          14.338427882140964,
          14.372358481864449,
          14.445344434969648,
          14.406604996999127,
          14.34026649049925,
          14.338932804471103,
          14.33855202562109,
          14.340685566223716,
          14.44447416090774,
          14.592136720432503,
          14.336568121379884,
          14.416537201256219,
          14.394245064240055,
          14.339707011003899,
          14.41550646717946,
          14.336611306982547,
          14.638536517317075,
          14.394197777218057,
          14.480719708585825,
          14.42839504743835,
          14.336225929581238,
          14.336861692574772,
          14.617963855771817,
          14.339452465496013,
          14.650760187075546,
          14.42755086051094,
          14.41139789432426,
          14.70472112773408,
          14.397378841600595,
          14.591642794817117,
          14.410214818448221,
          14.336737775799271,
          14.336369321620127,
          14.337199373645037,
          14.343134527701817,
          14.620148070411982,
          14.440858379497913,
          14.33640400590529,
          14.42076724475541,
          14.443116876483705,
          14.663941098716572,
          14.57072068133568,
          14.337788528216596,
          14.341538954295226,
          14.376939986842252,
          14.433801305298283,
          14.437687951770714,
          14.342124613502879,
          14.569160701908068,
          14.397867425591505,
          14.40933163472151,
          14.642330252818253,
          14.336262084057942,
          14.427850925147222,
          14.619377214905263,
          14.33829859440983,
          14.537572861968295,
          14.340051587429315,
          14.599488515857718,
          14.39328354178865,
          14.621984568966154,
          14.421134390833554,
          14.416224659104293,
          14.406965002393306,
          14.342823266863292,
          14.699391496241327,
          14.338439153067094,
          14.337086982570579,
          14.60322131523999,
          14.33823899841186,
          14.462537175087558,
          14.648878439958683,
          14.406504322481732,
          14.627436813363605,
          14.401273670652587,
          14.623516952769728,
          14.416484126538679,
          14.34166075268486,
          14.591416457959998,
          14.63409384293516,
          14.336958408016526,
          14.400930099324707,
          14.395945996934243,
          14.337468334775737,
          14.570781538331039,
          14.454514456282402,
          14.64536166722863,
          14.337895523621496,
          14.48129915582176,
          14.336606890869337,
          14.591984761614798,
          14.385348883097233,
          14.626365461393254,
          14.40515177635097,
          14.5641308783241,
          14.61102417813857,
          14.398752305853296,
          14.565314373714427,
          14.393929583788676,
          14.586018550268731,
          14.64269280243935,
          14.545638801878175,
          14.576913259148704,
          14.384578360002969,
          14.619383976547942,
          14.608933353728752,
          14.413490757663277,
          14.336873160589269,
          14.343641017119593,
          14.558277264645684,
          14.350916600742197,
          14.408254688865943,
          14.702310322092968,
          14.336534719393887,
          14.662767539747732,
          14.546556815360368,
          14.336651419630115,
          14.626903526146865,
          14.426435316509751,
          14.337815671585808,
          14.652281792004198,
          14.336960733995994,
          14.617423964099807,
          14.372340308029981,
          14.418539156161986,
          14.336870151663952,
          14.709355486187212,
          14.624452390846566,
          14.339164575048734,
          14.340420544581628,
          14.386115041741865,
          14.34052645072851,
          14.637918737403794,
          14.338168152895083,
          14.586511138279866,
          14.610622897406508,
          14.693157703430877,
          14.430255622679073,
          14.34067156754656,
          14.343632059354723,
          14.557579104119908,
          14.339537007189186,
          14.3369289545193,
          14.405050836800203,
          14.338879767334328,
          14.625417352535962,
          14.377832009185665,
          14.342076510875833,
          14.593859132641448,
          14.411478516594432,
          14.43409703127616,
          14.34026580423811,
          14.424448576558884,
          14.436306857913856,
          14.434928489885873,
          14.33916046104806,
          14.442332345774686,
          14.339708744444104,
          14.399858610170662
         ],
         "end": 16,
         "features": {},
         "label": "circling",
         "maxValues": {
          "points": -1,
          "space": -1
         },
         "positions": [
          0,
          0,
          0,
          0,
          0,
          0,
          0,
          0,
          0,
          0,
          0,
          0,
          0,
          0,
          0,
          0,
          0,
          0,
          0,
          0,
          0,
          0,
          0,
          0,
          0,
          0,
          0,
          0,
          0,
          0,
          0,
          0,
          0,
          0,
          0,
          0,
          0,
          0,
          0,
          0,
          0,
          0,
          0,
          0,
          0,
          0,
          0,
          0,
          0,
          0,
          0,
          0,
          0,
          0,
          0,
          0,
          0,
          0,
          0,
          0,
          0,
          0,
          0,
          0,
          0,
          0,
          0,
          0,
          0,
          0,
          0,
          0,
          0,
          0,
          0,
          0,
          0,
          0,
          0,
          0,
          0,
          0,
          0,
          0,
          0,
          0,
          0,
          0,
          0,
          0,
          0,
          0,
          0,
          0,
          0,
          0,
          0,
          0,
          0,
          0,
          0,
          0,
          0,
          0,
          0,
          0,
          0,
          0,
          0,
          0,
          0,
          0,
          0,
          0,
          0,
          0,
          0,
          0,
          0,
          0,
          0,
          0,
          0,
          0,
          0,
          0,
          0,
          0,
          0,
          0,
          0,
          0,
          0,
          0,
          0,
          0,
          0,
          0,
          0,
          0,
          0,
          0,
          0,
          0,
          0,
          0,
          0,
          0,
          0,
          0,
          0,
          0,
          0,
          0,
          0,
          0,
          0,
          0,
          0,
          0,
          0,
          0,
          0,
          0,
          0,
          0,
          0,
          0,
          0,
          0,
          0,
          0,
          0,
          0,
          0,
          0,
          0,
          0,
          0,
          0,
          0,
          0,
          0,
          0,
          0,
          0,
          0,
          0,
          0,
          0,
          0,
          0,
          0,
          0,
          0,
          0,
          0,
          0,
          0,
          0,
          0,
          0,
          0,
          0,
          0,
          0,
          0,
          0,
          0,
          0
         ],
         "quality": {
          "data": {
           "bestDistBetweenValues": 0,
           "maxDistance": 14.709355486187212,
           "quality": 0.8102814684437907,
           "size": 2,
           "splitpoint": 14.353958705097257,
           "start": 15,
           "tid": 92
          }
         },
         "start": 15,
         "trajectory": 92
        }
       ]
      },
      "text/plain": [
       "<IPython.core.display.JSON object>"
      ]
     },
     "execution_count": 87,
     "metadata": {
      "application/json": {
       "expanded": false,
       "root": "root"
      }
     },
     "output_type": "execute_result"
    }
   ],
   "source": [
    "with open('dataset_for_movelets/simple_yao/res_simple_yaomoveletsOnTrain.json', 'r') as f:\n",
    "    data = json.load(f)\n",
    "\n",
    "from IPython.display import JSON\n",
    "\n",
    "JSON(data)"
   ]
  },
  {
   "cell_type": "code",
   "execution_count": 62,
   "id": "b1b0320bc634d607",
   "metadata": {},
   "outputs": [
    {
     "data": {
      "text/plain": [
       "[{'start': 13,\n",
       "  'end': 21,\n",
       "  'trajectory': 62,\n",
       "  'label': 'straight',\n",
       "  'features': {},\n",
       "  'maxValues': {'space': -1.0, 'points': -1.0},\n",
       "  'distances': [65.57292242306785,\n",
       "   43.14478511409989,\n",
       "   62.19580684223062,\n",
       "   126.99831330445035,\n",
       "   61.830954736911494,\n",
       "   45.26678860757834,\n",
       "   124.71576543100426,\n",
       "   43.59791973775341,\n",
       "   60.514536609940876,\n",
       "   165.54047041567947,\n",
       "   46.364639420991054,\n",
       "   44.85262531530147,\n",
       "   65.19738890122309,\n",
       "   56.0490685062589,\n",
       "   73.03444717946535,\n",
       "   66.53024002092062,\n",
       "   84.70203107925506,\n",
       "   139.11459674644772,\n",
       "   146.6899806401477,\n",
       "   66.78033435166468,\n",
       "   175.58025513991768,\n",
       "   82.24582877541393,\n",
       "   50.5173594874929,\n",
       "   41.590305234802294,\n",
       "   50.23957330120357,\n",
       "   43.11555792981215,\n",
       "   104.65544264107467,\n",
       "   103.4350195933107,\n",
       "   68.3002140139387,\n",
       "   53.03049909958833,\n",
       "   56.82739662112454,\n",
       "   111.74201867522937,\n",
       "   105.42950040496667,\n",
       "   174.60097504074758,\n",
       "   60.39085726430178,\n",
       "   67.62946992125785,\n",
       "   71.800182165217,\n",
       "   67.63493716632925,\n",
       "   160.58218120764147,\n",
       "   71.13587479701377,\n",
       "   80.73507430114364,\n",
       "   153.933330652265,\n",
       "   70.69570001637446,\n",
       "   61.619248652348666,\n",
       "   48.12006918145343,\n",
       "   41.96928558291617,\n",
       "   170.09626756651843,\n",
       "   53.55166886906096,\n",
       "   54.025920506496256,\n",
       "   65.8365329341661,\n",
       "   138.1976163513053,\n",
       "   127.53102355941671,\n",
       "   53.8488529484606,\n",
       "   134.86160687264297,\n",
       "   64.91016228162889,\n",
       "   47.14552843056053,\n",
       "   55.28439527780708,\n",
       "   63.054366133842194,\n",
       "   58.67687448892375,\n",
       "   67.47153600812176,\n",
       "   66.132935117109,\n",
       "   43.38989124904605,\n",
       "   43.44088575374233,\n",
       "   96.98071543649736,\n",
       "   42.26155912371664,\n",
       "   92.64198441713943,\n",
       "   55.24377710570587,\n",
       "   59.521657325185316,\n",
       "   87.51541230372356,\n",
       "   42.15116603046085,\n",
       "   154.6561052574705,\n",
       "   55.30503907561752,\n",
       "   91.69165601137428,\n",
       "   136.64632141927504,\n",
       "   67.10672901584775,\n",
       "   69.99390875989582,\n",
       "   63.79895766059399,\n",
       "   86.14090429473563,\n",
       "   56.34596787836063,\n",
       "   64.67407028830473,\n",
       "   104.60222093610457,\n",
       "   69.45997010895768,\n",
       "   55.46570855419041,\n",
       "   68.79530401476455,\n",
       "   71.48987444451491,\n",
       "   65.624115390398,\n",
       "   45.606478496186085,\n",
       "   116.29355907169558,\n",
       "   45.836358573469404,\n",
       "   70.26890239949465],\n",
       "  'positions': [0,\n",
       "   0,\n",
       "   0,\n",
       "   0,\n",
       "   0,\n",
       "   0,\n",
       "   0,\n",
       "   0,\n",
       "   0,\n",
       "   0,\n",
       "   0,\n",
       "   0,\n",
       "   0,\n",
       "   0,\n",
       "   0,\n",
       "   0,\n",
       "   0,\n",
       "   0,\n",
       "   0,\n",
       "   0,\n",
       "   0,\n",
       "   0,\n",
       "   0,\n",
       "   0,\n",
       "   0,\n",
       "   0,\n",
       "   0,\n",
       "   0,\n",
       "   0,\n",
       "   0,\n",
       "   0,\n",
       "   0,\n",
       "   0,\n",
       "   0,\n",
       "   0,\n",
       "   0,\n",
       "   0,\n",
       "   0,\n",
       "   0,\n",
       "   0,\n",
       "   0,\n",
       "   0,\n",
       "   0,\n",
       "   0,\n",
       "   0,\n",
       "   0,\n",
       "   0,\n",
       "   0,\n",
       "   0,\n",
       "   0,\n",
       "   0,\n",
       "   0,\n",
       "   0,\n",
       "   0,\n",
       "   0,\n",
       "   0,\n",
       "   0,\n",
       "   0,\n",
       "   0,\n",
       "   0,\n",
       "   0,\n",
       "   0,\n",
       "   0,\n",
       "   0,\n",
       "   0,\n",
       "   0,\n",
       "   0,\n",
       "   0,\n",
       "   0,\n",
       "   0,\n",
       "   0,\n",
       "   0,\n",
       "   0,\n",
       "   0,\n",
       "   0,\n",
       "   0,\n",
       "   0,\n",
       "   0,\n",
       "   0,\n",
       "   0,\n",
       "   0,\n",
       "   0,\n",
       "   0,\n",
       "   0,\n",
       "   0,\n",
       "   0,\n",
       "   0,\n",
       "   0,\n",
       "   0,\n",
       "   0],\n",
       "  'quality': {'data': {'size': 9.0,\n",
       "    'start': 13.0,\n",
       "    'splitpoint': 75.24324284186615,\n",
       "    'maxDistance': 187.88269126898666,\n",
       "    'tid': 62.0,\n",
       "    'quality': 0.8411569286478652,\n",
       "    'bestDistBetweenValues': 0.0}}},\n",
       " {'start': 15,\n",
       "  'end': 16,\n",
       "  'trajectory': 92,\n",
       "  'label': 'circling',\n",
       "  'features': {},\n",
       "  'maxValues': {'space': -1.0, 'points': -1.0},\n",
       "  'distances': [14.426656502476858,\n",
       "   14.625828530638877,\n",
       "   14.568303000144066,\n",
       "   14.339923895272662,\n",
       "   14.425125422248897,\n",
       "   14.405837308196498,\n",
       "   14.337225018506157,\n",
       "   14.683667155187006,\n",
       "   14.620248111735691,\n",
       "   14.338812077216566,\n",
       "   14.550964063932103,\n",
       "   14.67484035663711,\n",
       "   14.691008047253455,\n",
       "   14.591051209420163,\n",
       "   14.540093977964508,\n",
       "   14.438889777984814,\n",
       "   14.363446217695403,\n",
       "   14.341338100168096,\n",
       "   14.33801950430877,\n",
       "   14.668272648279164,\n",
       "   14.337202141881802,\n",
       "   14.339620201297224,\n",
       "   14.632445427144937,\n",
       "   14.641532635990002,\n",
       "   14.42509823973994,\n",
       "   14.601293186427512,\n",
       "   14.346953394082577,\n",
       "   14.345069989275054,\n",
       "   14.641714251695802,\n",
       "   14.639215960648018,\n",
       "   14.456571791442684,\n",
       "   14.340829210672855,\n",
       "   14.339252825657686,\n",
       "   14.338939506174684,\n",
       "   14.615540741485567,\n",
       "   14.412350842301404,\n",
       "   14.656189463404203,\n",
       "   14.340922040540313,\n",
       "   14.34473298542644,\n",
       "   14.399224725697831,\n",
       "   14.351418981327265,\n",
       "   14.338519270525655,\n",
       "   14.408581280296476,\n",
       "   14.446125892939374,\n",
       "   14.415623954846144,\n",
       "   14.423646183650284,\n",
       "   14.336687992509072,\n",
       "   14.625009234202249,\n",
       "   14.63436504592293,\n",
       "   14.431420042514189,\n",
       "   14.343234629010436,\n",
       "   14.3376481654134,\n",
       "   14.524070673441022,\n",
       "   14.342176177318473,\n",
       "   14.655764905966508,\n",
       "   14.601394881882323,\n",
       "   14.421946762671173,\n",
       "   14.698156549462526,\n",
       "   14.412725466614768,\n",
       "   14.590957020862493,\n",
       "   14.393837793999467,\n",
       "   14.62078590930096,\n",
       "   14.638721649867973,\n",
       "   14.339504090163631,\n",
       "   14.59185577062663,\n",
       "   14.339840013086665,\n",
       "   14.589810896677916,\n",
       "   14.574776344862046,\n",
       "   14.344991960883602,\n",
       "   14.526082752093451,\n",
       "   14.336266341070417,\n",
       "   14.404392910605665,\n",
       "   14.337819589250673,\n",
       "   14.339665785272246,\n",
       "   14.591235111755312,\n",
       "   14.606637345285026,\n",
       "   14.413240460715297,\n",
       "   14.340184558506753,\n",
       "   14.442299869034374,\n",
       "   14.403824255808447,\n",
       "   14.33611362915333,\n",
       "   14.581477438047704,\n",
       "   14.550334857140907,\n",
       "   14.451458934282643,\n",
       "   14.647902023445285,\n",
       "   14.627295511809512,\n",
       "   14.54412455007048,\n",
       "   14.336800719158536,\n",
       "   14.412515947584682,\n",
       "   14.61259706014025],\n",
       "  'positions': [0,\n",
       "   0,\n",
       "   0,\n",
       "   0,\n",
       "   0,\n",
       "   0,\n",
       "   0,\n",
       "   0,\n",
       "   0,\n",
       "   0,\n",
       "   0,\n",
       "   0,\n",
       "   0,\n",
       "   0,\n",
       "   0,\n",
       "   0,\n",
       "   0,\n",
       "   0,\n",
       "   0,\n",
       "   0,\n",
       "   0,\n",
       "   0,\n",
       "   0,\n",
       "   0,\n",
       "   0,\n",
       "   0,\n",
       "   0,\n",
       "   0,\n",
       "   0,\n",
       "   0,\n",
       "   0,\n",
       "   0,\n",
       "   0,\n",
       "   0,\n",
       "   0,\n",
       "   0,\n",
       "   0,\n",
       "   0,\n",
       "   0,\n",
       "   0,\n",
       "   0,\n",
       "   0,\n",
       "   0,\n",
       "   0,\n",
       "   0,\n",
       "   0,\n",
       "   0,\n",
       "   0,\n",
       "   0,\n",
       "   0,\n",
       "   0,\n",
       "   0,\n",
       "   0,\n",
       "   0,\n",
       "   0,\n",
       "   0,\n",
       "   0,\n",
       "   0,\n",
       "   0,\n",
       "   0,\n",
       "   0,\n",
       "   0,\n",
       "   0,\n",
       "   0,\n",
       "   0,\n",
       "   0,\n",
       "   0,\n",
       "   0,\n",
       "   0,\n",
       "   0,\n",
       "   0,\n",
       "   0,\n",
       "   0,\n",
       "   0,\n",
       "   0,\n",
       "   0,\n",
       "   0,\n",
       "   0,\n",
       "   0,\n",
       "   0,\n",
       "   0,\n",
       "   0,\n",
       "   0,\n",
       "   0,\n",
       "   0,\n",
       "   0,\n",
       "   0,\n",
       "   0,\n",
       "   0,\n",
       "   0],\n",
       "  'quality': {'data': {'size': 2.0,\n",
       "    'start': 15.0,\n",
       "    'splitpoint': 14.353958705097257,\n",
       "    'maxDistance': 14.709355486187212,\n",
       "    'tid': 92.0,\n",
       "    'quality': 0.8102814684437907,\n",
       "    'bestDistBetweenValues': 0.0}}}]"
      ]
     },
     "execution_count": 62,
     "metadata": {},
     "output_type": "execute_result"
    }
   ],
   "source": [
    "data[\"shapelets\"]"
   ]
  },
  {
   "cell_type": "code",
   "execution_count": 46,
   "id": "496bb1339a3d94a7",
   "metadata": {},
   "outputs": [
    {
     "data": {
      "text/html": [
       "<div>\n",
       "<style scoped>\n",
       "    .dataframe tbody tr th:only-of-type {\n",
       "        vertical-align: middle;\n",
       "    }\n",
       "\n",
       "    .dataframe tbody tr th {\n",
       "        vertical-align: top;\n",
       "    }\n",
       "\n",
       "    .dataframe thead th {\n",
       "        text-align: right;\n",
       "    }\n",
       "</style>\n",
       "<table border=\"1\" class=\"dataframe\">\n",
       "  <thead>\n",
       "    <tr style=\"text-align: right;\">\n",
       "      <th></th>\n",
       "      <th>time</th>\n",
       "      <th>lat</th>\n",
       "      <th>lon</th>\n",
       "      <th>y</th>\n",
       "      <th>tid</th>\n",
       "    </tr>\n",
       "  </thead>\n",
       "  <tbody>\n",
       "    <tr>\n",
       "      <th>0</th>\n",
       "      <td>0</td>\n",
       "      <td>0.000000</td>\n",
       "      <td>0.000000</td>\n",
       "      <td>straight</td>\n",
       "      <td>0</td>\n",
       "    </tr>\n",
       "    <tr>\n",
       "      <th>1</th>\n",
       "      <td>2</td>\n",
       "      <td>3.137486</td>\n",
       "      <td>1.208551</td>\n",
       "      <td>straight</td>\n",
       "      <td>0</td>\n",
       "    </tr>\n",
       "    <tr>\n",
       "      <th>2</th>\n",
       "      <td>3</td>\n",
       "      <td>5.648241</td>\n",
       "      <td>0.420390</td>\n",
       "      <td>straight</td>\n",
       "      <td>0</td>\n",
       "    </tr>\n",
       "    <tr>\n",
       "      <th>3</th>\n",
       "      <td>4</td>\n",
       "      <td>7.336309</td>\n",
       "      <td>1.062335</td>\n",
       "      <td>straight</td>\n",
       "      <td>0</td>\n",
       "    </tr>\n",
       "    <tr>\n",
       "      <th>4</th>\n",
       "      <td>5</td>\n",
       "      <td>8.582438</td>\n",
       "      <td>3.009159</td>\n",
       "      <td>straight</td>\n",
       "      <td>0</td>\n",
       "    </tr>\n",
       "    <tr>\n",
       "      <th>...</th>\n",
       "      <td>...</td>\n",
       "      <td>...</td>\n",
       "      <td>...</td>\n",
       "      <td>...</td>\n",
       "      <td>...</td>\n",
       "    </tr>\n",
       "    <tr>\n",
       "      <th>20594</th>\n",
       "      <td>111</td>\n",
       "      <td>-208.012613</td>\n",
       "      <td>82.456516</td>\n",
       "      <td>bending</td>\n",
       "      <td>299</td>\n",
       "    </tr>\n",
       "    <tr>\n",
       "      <th>20595</th>\n",
       "      <td>112</td>\n",
       "      <td>-210.036307</td>\n",
       "      <td>82.648491</td>\n",
       "      <td>bending</td>\n",
       "      <td>299</td>\n",
       "    </tr>\n",
       "    <tr>\n",
       "      <th>20596</th>\n",
       "      <td>114</td>\n",
       "      <td>-214.358151</td>\n",
       "      <td>83.389841</td>\n",
       "      <td>bending</td>\n",
       "      <td>299</td>\n",
       "    </tr>\n",
       "    <tr>\n",
       "      <th>20597</th>\n",
       "      <td>116</td>\n",
       "      <td>-219.251445</td>\n",
       "      <td>82.911010</td>\n",
       "      <td>bending</td>\n",
       "      <td>299</td>\n",
       "    </tr>\n",
       "    <tr>\n",
       "      <th>20598</th>\n",
       "      <td>117</td>\n",
       "      <td>-222.486245</td>\n",
       "      <td>81.167108</td>\n",
       "      <td>bending</td>\n",
       "      <td>299</td>\n",
       "    </tr>\n",
       "  </tbody>\n",
       "</table>\n",
       "<p>20599 rows × 5 columns</p>\n",
       "</div>"
      ],
      "text/plain": [
       "       time         lat        lon         y  tid\n",
       "0         0    0.000000   0.000000  straight    0\n",
       "1         2    3.137486   1.208551  straight    0\n",
       "2         3    5.648241   0.420390  straight    0\n",
       "3         4    7.336309   1.062335  straight    0\n",
       "4         5    8.582438   3.009159  straight    0\n",
       "...     ...         ...        ...       ...  ...\n",
       "20594   111 -208.012613  82.456516   bending  299\n",
       "20595   112 -210.036307  82.648491   bending  299\n",
       "20596   114 -214.358151  83.389841   bending  299\n",
       "20597   116 -219.251445  82.911010   bending  299\n",
       "20598   117 -222.486245  81.167108   bending  299\n",
       "\n",
       "[20599 rows x 5 columns]"
      ]
     },
     "execution_count": 46,
     "metadata": {},
     "output_type": "execute_result"
    }
   ],
   "source": [
    "pd.read_csv(\"../../data/simple_yao.zip\")"
   ]
  }
 ],
 "metadata": {
  "kernelspec": {
   "display_name": "Python 3 (ipykernel)",
   "language": "python",
   "name": "python3"
  },
  "language_info": {
   "codemirror_mode": {
    "name": "ipython",
    "version": 3
   },
   "file_extension": ".py",
   "mimetype": "text/x-python",
   "name": "python",
   "nbconvert_exporter": "python",
   "pygments_lexer": "ipython3",
   "version": "3.10.12"
  }
 },
 "nbformat": 4,
 "nbformat_minor": 5
}

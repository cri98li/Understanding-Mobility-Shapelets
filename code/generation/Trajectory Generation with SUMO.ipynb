{
 "cells": [
  {
   "cell_type": "code",
   "id": "initial_id",
   "metadata": {
    "collapsed": true,
    "ExecuteTime": {
     "end_time": "2024-09-06T12:13:04.594214Z",
     "start_time": "2024-09-06T12:13:04.400078Z"
    }
   },
   "source": "import sumolib",
   "outputs": [],
   "execution_count": 1
  },
  {
   "metadata": {
    "ExecuteTime": {
     "end_time": "2024-09-06T12:09:22.730539Z",
     "start_time": "2024-09-06T12:09:22.392055Z"
    }
   },
   "cell_type": "code",
   "source": "net = sumolib.net.readNet('sumo_stuff/Grid.net.xml')",
   "id": "4ee64b7a2a93b0c",
   "outputs": [
    {
     "ename": "NameError",
     "evalue": "name 'sumolib' is not defined",
     "output_type": "error",
     "traceback": [
      "\u001B[1;31m---------------------------------------------------------------------------\u001B[0m",
      "\u001B[1;31mNameError\u001B[0m                                 Traceback (most recent call last)",
      "Cell \u001B[1;32mIn[1], line 1\u001B[0m\n\u001B[1;32m----> 1\u001B[0m net \u001B[38;5;241m=\u001B[39m \u001B[43msumolib\u001B[49m\u001B[38;5;241m.\u001B[39mnet\u001B[38;5;241m.\u001B[39mreadNet(\u001B[38;5;124m'\u001B[39m\u001B[38;5;124msumo_stuff/Grid.net.xml\u001B[39m\u001B[38;5;124m'\u001B[39m)\n",
      "\u001B[1;31mNameError\u001B[0m: name 'sumolib' is not defined"
     ]
    }
   ],
   "execution_count": 1
  },
  {
   "metadata": {
    "ExecuteTime": {
     "end_time": "2024-09-02T09:46:10.653688Z",
     "start_time": "2024-09-02T09:46:10.649400Z"
    }
   },
   "cell_type": "code",
   "source": [
    "# get the list of edges\n",
    "edge_list = net.getEdges()\n",
    "\n",
    "# get the list of nodes\n",
    "node_list = net.getNodes()\n",
    "\n",
    "print(f\"The road network has {len(edge_list)} edges and {len(node_list)} nodes.\")"
   ],
   "id": "7d169a2c6c4bfa70",
   "outputs": [
    {
     "name": "stdout",
     "output_type": "stream",
     "text": [
      "The road network has 360 edges and 100 nodes.\n"
     ]
    }
   ],
   "execution_count": 3
  },
  {
   "metadata": {},
   "cell_type": "code",
   "outputs": [],
   "execution_count": null,
   "source": [
    "def generate_random_trips(net:sumolib.net.Net, n_trips:int=100, min_edges:int=3):\n",
    "    generated_trips = []\n",
    "    while len(generated_trips) < n_trips:\n",
    "        trip = net.get\n",
    "    "
   ],
   "id": "c3f1b1d3c57141cc"
  },
  {
   "metadata": {
    "ExecuteTime": {
     "end_time": "2024-09-02T10:07:31.826108Z",
     "start_time": "2024-09-02T10:07:31.267894Z"
    }
   },
   "cell_type": "code",
   "source": "!python \"C:\\Program Files (x86)\\Eclipse\\Sumo\\tools\\randomTrips.py\" -n sumo_stuff\\Grid.net.xml -e 100",
   "id": "dd2e2aea311c9714",
   "outputs": [],
   "execution_count": 11
  },
  {
   "metadata": {},
   "cell_type": "markdown",
   "source": "## Real World",
   "id": "ad89a90eb54582c4"
  },
  {
   "metadata": {
    "ExecuteTime": {
     "end_time": "2024-09-06T12:13:10.524658Z",
     "start_time": "2024-09-06T12:13:10.400364Z"
    }
   },
   "cell_type": "code",
   "source": [
    "import traci\n",
    "import sys\n",
    "import os\n",
    "\n",
    "def init_traci(config_file_path):\n",
    "    \n",
    "    if 'SUMO_HOME' in os.environ:\n",
    "        tools = os.path.join(os.environ['SUMO_HOME'], 'tools')\n",
    "        sys.path.append(tools)\n",
    "    else:\n",
    "        sys.exit(\"please declare environment variable 'SUMO_HOME'\")\n",
    "\n",
    "    #Configuration\n",
    "    sumo_binary = os.environ['SUMO_HOME']+\"/bin/sumo\"\n",
    "\n",
    "    sumo_cmd = [sumo_binary, \"-c\", config_file_path]\n",
    "\n",
    "    traci.start(sumo_cmd)\n",
    "    traci.simulationStep()"
   ],
   "id": "311cab41c4f17686",
   "outputs": [],
   "execution_count": 2
  },
  {
   "metadata": {
    "ExecuteTime": {
     "end_time": "2024-09-06T12:13:10.871153Z",
     "start_time": "2024-09-06T12:13:10.863740Z"
    }
   },
   "cell_type": "code",
   "source": [
    "def simulate(n_steps, path):\n",
    "    init_traci(path)\n",
    "    data = [] # vehicle_id, lon, lat, time, vClass\n",
    "# simulate each step\n",
    "    for step in range(n_steps):\n",
    "        \n",
    "        # perform a simulation step\n",
    "        traci.simulationStep()\n",
    "        \n",
    "        # get the list of active vehicles (vehicles inserted in the simulation)\n",
    "        vehicle_list = traci.vehicle.getIDList()\n",
    "        \n",
    "        time = traci.simulation.getTime()\n",
    "        \n",
    "        # value retrieval\n",
    "        if len(vehicle_list) == 0:\n",
    "            print(\"Simulation ended at step #\"+str(step))\n",
    "            break\n",
    "            \n",
    "        for v_id in vehicle_list:\n",
    "            v_class = traci.vehicle.getVehicleClass(v_id)\n",
    "            \n",
    "            # Position\n",
    "            x, y = traci.vehicle.getPosition(v_id)\n",
    "            lon, lat = traci.simulation.convertGeo(x, y)\n",
    "            \n",
    "            data += [\n",
    "                (v_id, lon, lat, time, v_class)\n",
    "            ]\n",
    "    traci.close()\n",
    "    \n",
    "    return data"
   ],
   "id": "d1ce9e047e69c46f",
   "outputs": [],
   "execution_count": 3
  },
  {
   "metadata": {
    "ExecuteTime": {
     "end_time": "2024-09-06T12:13:11.405244Z",
     "start_time": "2024-09-06T12:13:11.395948Z"
    }
   },
   "cell_type": "code",
   "source": [
    "\"\"\"import pandas as pd\n",
    "\n",
    "path = \"sumo_stuff/Grid-Empire-2.5km/osm.sumocfg\"\n",
    "n_steps = 60 * 60 # min\n",
    "\n",
    "data = simulate(n_steps, path)\n",
    "\n",
    "df = pd.DataFrame(data, columns=[\"vehicle_id\", \"lon\", \"lat\", \"time\", \"class\"]).sort_values([\"vehicle_id\", \"time\"])\n",
    "\n",
    "df\"\"\""
   ],
   "id": "4bb62c624ea6784a",
   "outputs": [
    {
     "data": {
      "text/plain": [
       "'import pandas as pd\\n\\npath = \"sumo_stuff/Grid-Empire-2.5km/osm.sumocfg\"\\nn_steps = 60 * 60 # min\\n\\ndata = simulate(n_steps, path)\\n\\ndf = pd.DataFrame(data, columns=[\"vehicle_id\", \"lon\", \"lat\", \"time\", \"class\"]).sort_values([\"vehicle_id\", \"time\"])\\n\\ndf'"
      ]
     },
     "execution_count": 4,
     "metadata": {},
     "output_type": "execute_result"
    }
   ],
   "execution_count": 4
  },
  {
   "metadata": {
    "ExecuteTime": {
     "end_time": "2024-09-06T12:25:43.976983Z",
     "start_time": "2024-09-06T12:13:11.797188Z"
    }
   },
   "cell_type": "code",
   "source": [
    "from glob import glob\n",
    "import pandas as pd\n",
    "\n",
    "n_steps = 60 * 60 # min\n",
    "\n",
    "for file in glob(\"sumo_stuff/*/osm.sumocfg\"):\n",
    "    save_path = file[:-11] + \"trajectories.zip\"\n",
    "    print(save_path)\n",
    "    data = simulate(n_steps, file)\n",
    "\n",
    "    df = pd.DataFrame(data, columns=[\"vehicle_id\", \"lon\", \"lat\", \"time\", \"class\"]).sort_values([\"vehicle_id\", \"time\"])\n",
    "    \n",
    "    df.to_csv(save_path, index=False)\n",
    "    "
   ],
   "id": "65d5d429a9ded0a",
   "outputs": [
    {
     "name": "stdout",
     "output_type": "stream",
     "text": [
      "sumo_stuff\\Borgo-Rome-2Km\\trajectories.zip\n",
      "sumo_stuff\\Grid-Empire-2.5km\\trajectories.zip\n",
      "sumo_stuff\\Mixed-Athens-2km\\trajectories.zip\n"
     ]
    }
   ],
   "execution_count": 5
  },
  {
   "metadata": {},
   "cell_type": "code",
   "outputs": [],
   "execution_count": null,
   "source": "",
   "id": "943ae63147c2f208"
  },
  {
   "metadata": {},
   "cell_type": "code",
   "outputs": [],
   "execution_count": null,
   "source": "",
   "id": "3155943c56f837d7"
  },
  {
   "metadata": {},
   "cell_type": "code",
   "outputs": [],
   "execution_count": null,
   "source": "",
   "id": "689447993e9a15c5"
  }
 ],
 "metadata": {
  "kernelspec": {
   "display_name": "Python 3",
   "language": "python",
   "name": "python3"
  },
  "language_info": {
   "codemirror_mode": {
    "name": "ipython",
    "version": 2
   },
   "file_extension": ".py",
   "mimetype": "text/x-python",
   "name": "python",
   "nbconvert_exporter": "python",
   "pygments_lexer": "ipython2",
   "version": "2.7.6"
  }
 },
 "nbformat": 4,
 "nbformat_minor": 5
}

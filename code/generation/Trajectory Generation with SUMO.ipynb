{
 "cells": [
  {
   "cell_type": "code",
   "id": "initial_id",
   "metadata": {
    "collapsed": true,
    "ExecuteTime": {
     "end_time": "2024-09-02T09:45:07.896654Z",
     "start_time": "2024-09-02T09:45:07.259445Z"
    }
   },
   "source": "import sumolib",
   "outputs": [],
   "execution_count": 1
  },
  {
   "metadata": {
    "ExecuteTime": {
     "end_time": "2024-09-02T09:46:08.815325Z",
     "start_time": "2024-09-02T09:46:08.747830Z"
    }
   },
   "cell_type": "code",
   "source": "net = sumolib.net.readNet('sumo_stuff/Grid.net.xml')",
   "id": "4ee64b7a2a93b0c",
   "outputs": [],
   "execution_count": 2
  },
  {
   "metadata": {
    "ExecuteTime": {
     "end_time": "2024-09-02T09:46:10.653688Z",
     "start_time": "2024-09-02T09:46:10.649400Z"
    }
   },
   "cell_type": "code",
   "source": [
    "# get the list of edges\n",
    "edge_list = net.getEdges()\n",
    "\n",
    "# get the list of nodes\n",
    "node_list = net.getNodes()\n",
    "\n",
    "print(f\"The road network has {len(edge_list)} edges and {len(node_list)} nodes.\")"
   ],
   "id": "7d169a2c6c4bfa70",
   "outputs": [
    {
     "name": "stdout",
     "output_type": "stream",
     "text": [
      "The road network has 360 edges and 100 nodes.\n"
     ]
    }
   ],
   "execution_count": 3
  },
  {
   "metadata": {},
   "cell_type": "code",
   "outputs": [],
   "execution_count": null,
   "source": [
    "def generate_random_trips(net:sumolib.net.Net, n_trips:int=100, min_edges:int=3):\n",
    "    generated_trips = []\n",
    "    while len(generated_trips) < n_trips:\n",
    "        trip = net.get\n",
    "    "
   ],
   "id": "c3f1b1d3c57141cc"
  },
  {
   "metadata": {
    "ExecuteTime": {
     "end_time": "2024-09-02T10:07:31.826108Z",
     "start_time": "2024-09-02T10:07:31.267894Z"
    }
   },
   "cell_type": "code",
   "source": "!python \"C:\\Program Files (x86)\\Eclipse\\Sumo\\tools\\randomTrips.py\" -n sumo_stuff\\Grid.net.xml -e 100",
   "id": "dd2e2aea311c9714",
   "outputs": [],
   "execution_count": 11
  },
  {
   "metadata": {},
   "cell_type": "code",
   "outputs": [],
   "execution_count": null,
   "source": "",
   "id": "94059bef06a53253"
  },
  {
   "metadata": {},
   "cell_type": "code",
   "outputs": [],
   "execution_count": null,
   "source": "",
   "id": "311cab41c4f17686"
  },
  {
   "metadata": {},
   "cell_type": "code",
   "outputs": [],
   "execution_count": null,
   "source": "",
   "id": "d1ce9e047e69c46f"
  }
 ],
 "metadata": {
  "kernelspec": {
   "display_name": "Python 3",
   "language": "python",
   "name": "python3"
  },
  "language_info": {
   "codemirror_mode": {
    "name": "ipython",
    "version": 2
   },
   "file_extension": ".py",
   "mimetype": "text/x-python",
   "name": "python",
   "nbconvert_exporter": "python",
   "pygments_lexer": "ipython2",
   "version": "2.7.6"
  }
 },
 "nbformat": 4,
 "nbformat_minor": 5
}
